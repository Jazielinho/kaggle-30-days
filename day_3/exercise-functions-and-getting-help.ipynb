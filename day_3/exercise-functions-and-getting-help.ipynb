{
 "cells": [
  {
   "cell_type": "markdown",
   "id": "7745c8d4",
   "metadata": {
    "papermill": {
     "duration": 0.014955,
     "end_time": "2021-08-10T08:59:51.001329",
     "exception": false,
     "start_time": "2021-08-10T08:59:50.986374",
     "status": "completed"
    },
    "tags": []
   },
   "source": [
    "**This notebook is an exercise in the [Python](https://www.kaggle.com/learn/python) course.  You can reference the tutorial at [this link](https://www.kaggle.com/colinmorris/functions-and-getting-help).**\n",
    "\n",
    "---\n"
   ]
  },
  {
   "cell_type": "markdown",
   "id": "df8f81b7",
   "metadata": {
    "papermill": {
     "duration": 0.013653,
     "end_time": "2021-08-10T08:59:51.031333",
     "exception": false,
     "start_time": "2021-08-10T08:59:51.017680",
     "status": "completed"
    },
    "tags": []
   },
   "source": [
    "Functions are powerful. Try writing some yourself.\n",
    "\n",
    "As before, don't forget to run the setup code below before jumping into question 1."
   ]
  },
  {
   "cell_type": "code",
   "execution_count": 1,
   "id": "2b70f36a",
   "metadata": {
    "_kg_hide-input": true,
    "_kg_hide-output": true,
    "execution": {
     "iopub.execute_input": "2021-08-10T08:59:51.063620Z",
     "iopub.status.busy": "2021-08-10T08:59:51.062435Z",
     "iopub.status.idle": "2021-08-10T08:59:51.200428Z",
     "shell.execute_reply": "2021-08-10T08:59:51.201414Z",
     "shell.execute_reply.started": "2021-08-10T08:50:59.161022Z"
    },
    "papermill": {
     "duration": 0.156653,
     "end_time": "2021-08-10T08:59:51.201908",
     "exception": false,
     "start_time": "2021-08-10T08:59:51.045255",
     "status": "completed"
    },
    "tags": []
   },
   "outputs": [
    {
     "name": "stdout",
     "output_type": "stream",
     "text": [
      "Setup complete.\n"
     ]
    }
   ],
   "source": [
    "# SETUP. You don't need to worry for now about what this code does or how it works.\n",
    "from learntools.core import binder; binder.bind(globals())\n",
    "from learntools.python.ex2 import *\n",
    "print('Setup complete.')"
   ]
  },
  {
   "cell_type": "markdown",
   "id": "6799c40b",
   "metadata": {
    "papermill": {
     "duration": 0.013955,
     "end_time": "2021-08-10T08:59:51.232092",
     "exception": false,
     "start_time": "2021-08-10T08:59:51.218137",
     "status": "completed"
    },
    "tags": []
   },
   "source": [
    "# 1.\n",
    "\n",
    "Complete the body of the following function according to its docstring.\n",
    "\n",
    "HINT: Python has a built-in function `round`."
   ]
  },
  {
   "cell_type": "code",
   "execution_count": 2,
   "id": "74c15981",
   "metadata": {
    "execution": {
     "iopub.execute_input": "2021-08-10T08:59:51.263493Z",
     "iopub.status.busy": "2021-08-10T08:59:51.262752Z",
     "iopub.status.idle": "2021-08-10T08:59:51.273146Z",
     "shell.execute_reply": "2021-08-10T08:59:51.273622Z",
     "shell.execute_reply.started": "2021-08-10T08:51:58.852948Z"
    },
    "papermill": {
     "duration": 0.027505,
     "end_time": "2021-08-10T08:59:51.273787",
     "exception": false,
     "start_time": "2021-08-10T08:59:51.246282",
     "status": "completed"
    },
    "tags": []
   },
   "outputs": [
    {
     "data": {
      "application/javascript": [
       "parent.postMessage({\"jupyterEvent\": \"custom.exercise_interaction\", \"data\": {\"outcomeType\": 1, \"valueTowardsCompletion\": 0.16666666666666666, \"interactionType\": 1, \"questionType\": 2, \"questionId\": \"1_RoundFunctionProblem\", \"learnToolsVersion\": \"0.3.4\", \"failureMessage\": \"\", \"exceptionClass\": \"\", \"trace\": \"\"}}, \"*\")"
      ],
      "text/plain": [
       "<IPython.core.display.Javascript object>"
      ]
     },
     "metadata": {},
     "output_type": "display_data"
    },
    {
     "data": {
      "text/markdown": [
       "<span style=\"color:#33cc33\">Correct</span>"
      ],
      "text/plain": [
       "Correct"
      ]
     },
     "metadata": {},
     "output_type": "display_data"
    }
   ],
   "source": [
    "def round_to_two_places(num):\n",
    "    \"\"\"Return the given number rounded to two decimal places. \n",
    "    \n",
    "    >>> round_to_two_places(3.14159)\n",
    "    3.14\n",
    "    \"\"\"\n",
    "    # Replace this body with your own code.\n",
    "    # (\"pass\" is a keyword that does literally nothing. We used it as a placeholder\n",
    "    # because after we begin a code block, Python requires at least one line of code)\n",
    "    return round(num, 2)\n",
    "\n",
    "# Check your answer\n",
    "q1.check()"
   ]
  },
  {
   "cell_type": "code",
   "execution_count": 3,
   "id": "3f1458ed",
   "metadata": {
    "execution": {
     "iopub.execute_input": "2021-08-10T08:59:51.307581Z",
     "iopub.status.busy": "2021-08-10T08:59:51.306970Z",
     "iopub.status.idle": "2021-08-10T08:59:51.317835Z",
     "shell.execute_reply": "2021-08-10T08:59:51.317333Z",
     "shell.execute_reply.started": "2021-08-10T08:52:02.781402Z"
    },
    "papermill": {
     "duration": 0.028846,
     "end_time": "2021-08-10T08:59:51.317999",
     "exception": false,
     "start_time": "2021-08-10T08:59:51.289153",
     "status": "completed"
    },
    "tags": []
   },
   "outputs": [
    {
     "data": {
      "application/javascript": [
       "parent.postMessage({\"jupyterEvent\": \"custom.exercise_interaction\", \"data\": {\"interactionType\": 2, \"questionType\": 2, \"questionId\": \"1_RoundFunctionProblem\", \"learnToolsVersion\": \"0.3.4\", \"valueTowardsCompletion\": 0.0, \"failureMessage\": \"\", \"exceptionClass\": \"\", \"trace\": \"\", \"outcomeType\": 4}}, \"*\")"
      ],
      "text/plain": [
       "<IPython.core.display.Javascript object>"
      ]
     },
     "metadata": {},
     "output_type": "display_data"
    },
    {
     "data": {
      "text/markdown": [
       "<span style=\"color:#3366cc\">Hint:</span> Run `help(round)` in the console (or in a code cell) to learn more about the round function. You'll need to use the function's optional second argument."
      ],
      "text/plain": [
       "Hint: Run `help(round)` in the console (or in a code cell) to learn more about the round function. You'll need to use the function's optional second argument."
      ]
     },
     "metadata": {},
     "output_type": "display_data"
    },
    {
     "data": {
      "application/javascript": [
       "parent.postMessage({\"jupyterEvent\": \"custom.exercise_interaction\", \"data\": {\"interactionType\": 3, \"questionType\": 2, \"questionId\": \"1_RoundFunctionProblem\", \"learnToolsVersion\": \"0.3.4\", \"valueTowardsCompletion\": 0.0, \"failureMessage\": \"\", \"exceptionClass\": \"\", \"trace\": \"\", \"outcomeType\": 4}}, \"*\")"
      ],
      "text/plain": [
       "<IPython.core.display.Javascript object>"
      ]
     },
     "metadata": {},
     "output_type": "display_data"
    },
    {
     "data": {
      "text/markdown": [
       "<span style=\"color:#33cc99\">Solution:</span> \n",
       "```python\n",
       "return round(num, 2)\n",
       "```"
      ],
      "text/plain": [
       "Solution: \n",
       "```python\n",
       "return round(num, 2)\n",
       "```"
      ]
     },
     "metadata": {},
     "output_type": "display_data"
    }
   ],
   "source": [
    "# Uncomment the following for a hint\n",
    "q1.hint()\n",
    "# Or uncomment the following to peek at the solution\n",
    "q1.solution()"
   ]
  },
  {
   "cell_type": "markdown",
   "id": "e122d8d2",
   "metadata": {
    "papermill": {
     "duration": 0.016937,
     "end_time": "2021-08-10T08:59:51.352250",
     "exception": false,
     "start_time": "2021-08-10T08:59:51.335313",
     "status": "completed"
    },
    "tags": []
   },
   "source": [
    "# 2.\n",
    "The help for `round` says that `ndigits` (the second argument) may be negative.\n",
    "What do you think will happen when it is? Try some examples in the following cell."
   ]
  },
  {
   "cell_type": "code",
   "execution_count": 4,
   "id": "03c0e7a5",
   "metadata": {
    "execution": {
     "iopub.execute_input": "2021-08-10T08:59:51.398672Z",
     "iopub.status.busy": "2021-08-10T08:59:51.397747Z",
     "iopub.status.idle": "2021-08-10T08:59:51.402753Z",
     "shell.execute_reply": "2021-08-10T08:59:51.403813Z",
     "shell.execute_reply.started": "2021-08-10T08:53:51.613895Z"
    },
    "papermill": {
     "duration": 0.034532,
     "end_time": "2021-08-10T08:59:51.404164",
     "exception": false,
     "start_time": "2021-08-10T08:59:51.369632",
     "status": "completed"
    },
    "tags": []
   },
   "outputs": [
    {
     "name": "stdout",
     "output_type": "stream",
     "text": [
      "3.14\n",
      "0.0\n",
      "0.0\n"
     ]
    }
   ],
   "source": [
    "# Put your test code here\n",
    "pi = 3.14159\n",
    "print(round(pi, 2))\n",
    "print(round(pi, -2))\n",
    "print(round(pi, -1))"
   ]
  },
  {
   "cell_type": "markdown",
   "id": "d291b591",
   "metadata": {
    "papermill": {
     "duration": 0.024527,
     "end_time": "2021-08-10T08:59:51.448150",
     "exception": false,
     "start_time": "2021-08-10T08:59:51.423623",
     "status": "completed"
    },
    "tags": []
   },
   "source": [
    "Can you think of a case where this would be useful?  Once you're ready, run the code cell below to see the answer and to receive credit for completing the problem."
   ]
  },
  {
   "cell_type": "code",
   "execution_count": 5,
   "id": "691a9e3f",
   "metadata": {
    "execution": {
     "iopub.execute_input": "2021-08-10T08:59:51.494177Z",
     "iopub.status.busy": "2021-08-10T08:59:51.493555Z",
     "iopub.status.idle": "2021-08-10T08:59:51.501113Z",
     "shell.execute_reply": "2021-08-10T08:59:51.500444Z",
     "shell.execute_reply.started": "2021-08-10T08:54:06.039251Z"
    },
    "papermill": {
     "duration": 0.031481,
     "end_time": "2021-08-10T08:59:51.501259",
     "exception": false,
     "start_time": "2021-08-10T08:59:51.469778",
     "status": "completed"
    },
    "tags": []
   },
   "outputs": [
    {
     "data": {
      "application/javascript": [
       "parent.postMessage({\"jupyterEvent\": \"custom.exercise_interaction\", \"data\": {\"interactionType\": 3, \"questionType\": 4, \"questionId\": \"2_RoundNdigitsProblem\", \"learnToolsVersion\": \"0.3.4\", \"valueTowardsCompletion\": 0.0, \"failureMessage\": \"\", \"exceptionClass\": \"\", \"trace\": \"\", \"outcomeType\": 4}}, \"*\")"
      ],
      "text/plain": [
       "<IPython.core.display.Javascript object>"
      ]
     },
     "metadata": {},
     "output_type": "display_data"
    },
    {
     "data": {
      "text/markdown": [
       "<span style=\"color:#33cc99\">Solution:</span> As you've seen, `ndigits=-1` rounds to the nearest 10, `ndigits=-2` rounds to the nearest 100 and so on. Where might this be useful? Suppose we're dealing with large numbers:\n",
       "\n",
       "> The area of Finland is 338,424 km²  \n",
       "> The area of Greenland is 2,166,086 km²\n",
       "\n",
       "We probably don't care whether it's really 338,424, or 338,425, or 338,177. All those digits of accuracy are just distracting. We can chop them off by calling `round()` with `ndigits=-3`:\n",
       "\n",
       "> The area of Finland is 338,000 km²  \n",
       "> The area of Greenland is 2,166,000 km²\n",
       "\n",
       "(We'll talk about how we would get the commas later when we talk about string formatting :))\n"
      ],
      "text/plain": [
       "Solution: As you've seen, `ndigits=-1` rounds to the nearest 10, `ndigits=-2` rounds to the nearest 100 and so on. Where might this be useful? Suppose we're dealing with large numbers:\n",
       "\n",
       "> The area of Finland is 338,424 km²  \n",
       "> The area of Greenland is 2,166,086 km²\n",
       "\n",
       "We probably don't care whether it's really 338,424, or 338,425, or 338,177. All those digits of accuracy are just distracting. We can chop them off by calling `round()` with `ndigits=-3`:\n",
       "\n",
       "> The area of Finland is 338,000 km²  \n",
       "> The area of Greenland is 2,166,000 km²\n",
       "\n",
       "(We'll talk about how we would get the commas later when we talk about string formatting :))"
      ]
     },
     "metadata": {},
     "output_type": "display_data"
    }
   ],
   "source": [
    "# Check your answer (Run this code cell to receive credit!)\n",
    "q2.solution()"
   ]
  },
  {
   "cell_type": "markdown",
   "id": "fbfbb84b",
   "metadata": {
    "papermill": {
     "duration": 0.018916,
     "end_time": "2021-08-10T08:59:51.539616",
     "exception": false,
     "start_time": "2021-08-10T08:59:51.520700",
     "status": "completed"
    },
    "tags": []
   },
   "source": [
    "# 3.\n",
    "\n",
    "In the previous exercise, the candy-sharing friends Alice, Bob and Carol tried to split candies evenly. For the sake of their friendship, any candies left over would be smashed. For example, if they collectively bring home 91 candies, they'll take 30 each and smash 1.\n",
    "\n",
    "Below is a simple function that will calculate the number of candies to smash for *any* number of total candies.\n",
    "\n",
    "Modify it so that it optionally takes a second argument representing the number of friends the candies are being split between. If no second argument is provided, it should assume 3 friends, as before.\n",
    "\n",
    "Update the docstring to reflect this new behaviour."
   ]
  },
  {
   "cell_type": "code",
   "execution_count": 6,
   "id": "628cd3ee",
   "metadata": {
    "execution": {
     "iopub.execute_input": "2021-08-10T08:59:51.583882Z",
     "iopub.status.busy": "2021-08-10T08:59:51.582910Z",
     "iopub.status.idle": "2021-08-10T08:59:51.589117Z",
     "shell.execute_reply": "2021-08-10T08:59:51.588446Z",
     "shell.execute_reply.started": "2021-08-10T08:58:31.955935Z"
    },
    "papermill": {
     "duration": 0.030143,
     "end_time": "2021-08-10T08:59:51.589260",
     "exception": false,
     "start_time": "2021-08-10T08:59:51.559117",
     "status": "completed"
    },
    "tags": []
   },
   "outputs": [
    {
     "data": {
      "application/javascript": [
       "parent.postMessage({\"jupyterEvent\": \"custom.exercise_interaction\", \"data\": {\"outcomeType\": 1, \"valueTowardsCompletion\": 0.16666666666666666, \"interactionType\": 1, \"questionType\": 2, \"questionId\": \"3_CandySmashingFunctionProblem\", \"learnToolsVersion\": \"0.3.4\", \"failureMessage\": \"\", \"exceptionClass\": \"\", \"trace\": \"\"}}, \"*\")"
      ],
      "text/plain": [
       "<IPython.core.display.Javascript object>"
      ]
     },
     "metadata": {},
     "output_type": "display_data"
    },
    {
     "data": {
      "text/markdown": [
       "<span style=\"color:#33cc33\">Correct</span>"
      ],
      "text/plain": [
       "Correct"
      ]
     },
     "metadata": {},
     "output_type": "display_data"
    }
   ],
   "source": [
    "def to_smash(total_candies, n_friends=3):\n",
    "    \"\"\"Return the number of leftover candies that must be smashed after distributing\n",
    "    the given number of candies evenly between 3 friends.\n",
    "    \n",
    "    >>> to_smash(91)\n",
    "    1\n",
    "    \"\"\"\n",
    "    return total_candies % n_friends\n",
    "\n",
    "# Check your answer\n",
    "q3.check()"
   ]
  },
  {
   "cell_type": "code",
   "execution_count": 7,
   "id": "54c697bf",
   "metadata": {
    "execution": {
     "iopub.execute_input": "2021-08-10T08:59:51.634784Z",
     "iopub.status.busy": "2021-08-10T08:59:51.634147Z",
     "iopub.status.idle": "2021-08-10T08:59:51.638537Z",
     "shell.execute_reply": "2021-08-10T08:59:51.639075Z",
     "shell.execute_reply.started": "2021-08-10T08:58:32.246572Z"
    },
    "papermill": {
     "duration": 0.029705,
     "end_time": "2021-08-10T08:59:51.639237",
     "exception": false,
     "start_time": "2021-08-10T08:59:51.609532",
     "status": "completed"
    },
    "tags": []
   },
   "outputs": [
    {
     "data": {
      "application/javascript": [
       "parent.postMessage({\"jupyterEvent\": \"custom.exercise_interaction\", \"data\": {\"interactionType\": 2, \"questionType\": 2, \"questionId\": \"3_CandySmashingFunctionProblem\", \"learnToolsVersion\": \"0.3.4\", \"valueTowardsCompletion\": 0.0, \"failureMessage\": \"\", \"exceptionClass\": \"\", \"trace\": \"\", \"outcomeType\": 4}}, \"*\")"
      ],
      "text/plain": [
       "<IPython.core.display.Javascript object>"
      ]
     },
     "metadata": {},
     "output_type": "display_data"
    },
    {
     "data": {
      "text/markdown": [
       "<span style=\"color:#3366cc\">Hint:</span> Refer to the section of the last tutorial notebook where we talked about default arguments"
      ],
      "text/plain": [
       "Hint: Refer to the section of the last tutorial notebook where we talked about default arguments"
      ]
     },
     "metadata": {},
     "output_type": "display_data"
    }
   ],
   "source": [
    "q3.hint()"
   ]
  },
  {
   "cell_type": "code",
   "execution_count": 8,
   "id": "ef0ca94f",
   "metadata": {
    "execution": {
     "iopub.execute_input": "2021-08-10T08:59:51.683759Z",
     "iopub.status.busy": "2021-08-10T08:59:51.683130Z",
     "iopub.status.idle": "2021-08-10T08:59:51.689659Z",
     "shell.execute_reply": "2021-08-10T08:59:51.690186Z",
     "shell.execute_reply.started": "2021-08-10T08:58:32.755535Z"
    },
    "papermill": {
     "duration": 0.030334,
     "end_time": "2021-08-10T08:59:51.690368",
     "exception": false,
     "start_time": "2021-08-10T08:59:51.660034",
     "status": "completed"
    },
    "tags": []
   },
   "outputs": [
    {
     "data": {
      "application/javascript": [
       "parent.postMessage({\"jupyterEvent\": \"custom.exercise_interaction\", \"data\": {\"interactionType\": 3, \"questionType\": 2, \"questionId\": \"3_CandySmashingFunctionProblem\", \"learnToolsVersion\": \"0.3.4\", \"valueTowardsCompletion\": 0.0, \"failureMessage\": \"\", \"exceptionClass\": \"\", \"trace\": \"\", \"outcomeType\": 4}}, \"*\")"
      ],
      "text/plain": [
       "<IPython.core.display.Javascript object>"
      ]
     },
     "metadata": {},
     "output_type": "display_data"
    },
    {
     "data": {
      "text/markdown": [
       "<span style=\"color:#33cc99\">Solution:</span> \n",
       "```python\n",
       "def to_smash(total_candies, n_friends=3):\n",
       "    return total_candies % n_friends\n",
       "```"
      ],
      "text/plain": [
       "Solution: \n",
       "```python\n",
       "def to_smash(total_candies, n_friends=3):\n",
       "    return total_candies % n_friends\n",
       "```"
      ]
     },
     "metadata": {},
     "output_type": "display_data"
    }
   ],
   "source": [
    "q3.solution()"
   ]
  },
  {
   "cell_type": "markdown",
   "id": "2f413b9c",
   "metadata": {
    "papermill": {
     "duration": 0.021425,
     "end_time": "2021-08-10T08:59:51.733909",
     "exception": false,
     "start_time": "2021-08-10T08:59:51.712484",
     "status": "completed"
    },
    "tags": []
   },
   "source": [
    "# 4. (Optional)\n",
    "\n",
    "It may not be fun, but reading and understanding error messages will be an important part of your Python career.\n",
    "\n",
    "Each code cell below contains some commented buggy code. For each cell...\n",
    "\n",
    "1. Read the code and predict what you think will happen when it's run.\n",
    "2. Then uncomment the code and run it to see what happens. (**Tip**: In the kernel editor, you can highlight several lines and press `ctrl`+`/` to toggle commenting.)\n",
    "3. Fix the code (so that it accomplishes its intended purpose without throwing an exception)\n",
    "\n",
    "<!-- TODO: should this be autochecked? Delta is probably pretty small. -->"
   ]
  },
  {
   "cell_type": "code",
   "execution_count": 9,
   "id": "83083448",
   "metadata": {
    "execution": {
     "iopub.execute_input": "2021-08-10T08:59:51.780560Z",
     "iopub.status.busy": "2021-08-10T08:59:51.779925Z",
     "iopub.status.idle": "2021-08-10T08:59:51.783943Z",
     "shell.execute_reply": "2021-08-10T08:59:51.783350Z",
     "shell.execute_reply.started": "2021-08-10T08:59:05.679226Z"
    },
    "papermill": {
     "duration": 0.028441,
     "end_time": "2021-08-10T08:59:51.784098",
     "exception": false,
     "start_time": "2021-08-10T08:59:51.755657",
     "status": "completed"
    },
    "tags": []
   },
   "outputs": [],
   "source": [
    "# ruound_to_two_places(9.9999)"
   ]
  },
  {
   "cell_type": "code",
   "execution_count": 10,
   "id": "87ea4801",
   "metadata": {
    "execution": {
     "iopub.execute_input": "2021-08-10T08:59:51.831080Z",
     "iopub.status.busy": "2021-08-10T08:59:51.830423Z",
     "iopub.status.idle": "2021-08-10T08:59:51.833401Z",
     "shell.execute_reply": "2021-08-10T08:59:51.834009Z",
     "shell.execute_reply.started": "2021-08-10T08:59:10.995745Z"
    },
    "papermill": {
     "duration": 0.028172,
     "end_time": "2021-08-10T08:59:51.834190",
     "exception": false,
     "start_time": "2021-08-10T08:59:51.806018",
     "status": "completed"
    },
    "tags": []
   },
   "outputs": [],
   "source": [
    "# x = -10\n",
    "# y = 5\n",
    "# # Which of the two variables above has the smallest absolute value?\n",
    "# smallest_abs = min(abs(x, y))"
   ]
  },
  {
   "cell_type": "code",
   "execution_count": 11,
   "id": "b830b31d",
   "metadata": {
    "execution": {
     "iopub.execute_input": "2021-08-10T08:59:51.881016Z",
     "iopub.status.busy": "2021-08-10T08:59:51.880401Z",
     "iopub.status.idle": "2021-08-10T08:59:51.883318Z",
     "shell.execute_reply": "2021-08-10T08:59:51.883842Z",
     "shell.execute_reply.started": "2021-08-10T08:59:20.070572Z"
    },
    "papermill": {
     "duration": 0.027835,
     "end_time": "2021-08-10T08:59:51.884027",
     "exception": false,
     "start_time": "2021-08-10T08:59:51.856192",
     "status": "completed"
    },
    "tags": []
   },
   "outputs": [],
   "source": [
    "# def f(x):\n",
    "#     y = abs(x)\n",
    "# return y\n",
    "\n",
    "# print(f(5))"
   ]
  },
  {
   "cell_type": "markdown",
   "id": "5269aa29",
   "metadata": {
    "papermill": {
     "duration": 0.021398,
     "end_time": "2021-08-10T08:59:51.928038",
     "exception": false,
     "start_time": "2021-08-10T08:59:51.906640",
     "status": "completed"
    },
    "tags": []
   },
   "source": [
    "# Keep Going\n",
    "\n",
    "Nice job with the code. Next up, you'll learn about *conditionals*, which you'll need to **[write interesting programs](https://www.kaggle.com/colinmorris/booleans-and-conditionals)**. "
   ]
  },
  {
   "cell_type": "markdown",
   "id": "32b51967",
   "metadata": {
    "papermill": {
     "duration": 0.021343,
     "end_time": "2021-08-10T08:59:51.970972",
     "exception": false,
     "start_time": "2021-08-10T08:59:51.949629",
     "status": "completed"
    },
    "tags": []
   },
   "source": [
    "---\n",
    "\n",
    "\n",
    "\n",
    "\n",
    "*Have questions or comments? Visit the [Learn Discussion forum](https://www.kaggle.com/learn-forum/161283) to chat with other Learners.*"
   ]
  }
 ],
 "metadata": {
  "kernelspec": {
   "display_name": "Python 3",
   "language": "python",
   "name": "python3"
  },
  "language_info": {
   "codemirror_mode": {
    "name": "ipython",
    "version": 3
   },
   "file_extension": ".py",
   "mimetype": "text/x-python",
   "name": "python",
   "nbconvert_exporter": "python",
   "pygments_lexer": "ipython3",
   "version": "3.7.10"
  },
  "papermill": {
   "default_parameters": {},
   "duration": 10.835235,
   "end_time": "2021-08-10T08:59:53.557269",
   "environment_variables": {},
   "exception": null,
   "input_path": "__notebook__.ipynb",
   "output_path": "__notebook__.ipynb",
   "parameters": {},
   "start_time": "2021-08-10T08:59:42.722034",
   "version": "2.3.3"
  }
 },
 "nbformat": 4,
 "nbformat_minor": 5
}
