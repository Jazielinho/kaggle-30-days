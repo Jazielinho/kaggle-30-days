{
 "cells": [
  {
   "cell_type": "markdown",
   "id": "5518da08",
   "metadata": {
    "papermill": {
     "duration": 0.016565,
     "end_time": "2021-08-17T10:15:57.191891",
     "exception": false,
     "start_time": "2021-08-17T10:15:57.175326",
     "status": "completed"
    },
    "tags": []
   },
   "source": [
    "**This notebook is an exercise in the [Intermediate Machine Learning](https://www.kaggle.com/learn/intermediate-machine-learning) course.  You can reference the tutorial at [this link](https://www.kaggle.com/alexisbcook/xgboost).**\n",
    "\n",
    "---\n"
   ]
  },
  {
   "cell_type": "markdown",
   "id": "8df1f51e",
   "metadata": {
    "papermill": {
     "duration": 0.016119,
     "end_time": "2021-08-17T10:15:57.224166",
     "exception": false,
     "start_time": "2021-08-17T10:15:57.208047",
     "status": "completed"
    },
    "tags": []
   },
   "source": [
    "In this exercise, you will use your new knowledge to train a model with **gradient boosting**.\n",
    "\n",
    "# Setup\n",
    "\n",
    "The questions below will give you feedback on your work. Run the following cell to set up the feedback system."
   ]
  },
  {
   "cell_type": "code",
   "execution_count": 1,
   "id": "01c3ac58",
   "metadata": {
    "execution": {
     "iopub.execute_input": "2021-08-17T10:15:57.261739Z",
     "iopub.status.busy": "2021-08-17T10:15:57.259766Z",
     "iopub.status.idle": "2021-08-17T10:15:59.500417Z",
     "shell.execute_reply": "2021-08-17T10:15:59.501546Z",
     "shell.execute_reply.started": "2021-08-17T10:12:27.214798Z"
    },
    "papermill": {
     "duration": 2.262173,
     "end_time": "2021-08-17T10:15:59.501891",
     "exception": false,
     "start_time": "2021-08-17T10:15:57.239718",
     "status": "completed"
    },
    "tags": []
   },
   "outputs": [
    {
     "name": "stdout",
     "output_type": "stream",
     "text": [
      "Setup Complete\n"
     ]
    }
   ],
   "source": [
    "# Set up code checking\n",
    "import os\n",
    "if not os.path.exists(\"../input/train.csv\"):\n",
    "    os.symlink(\"../input/home-data-for-ml-course/train.csv\", \"../input/train.csv\")  \n",
    "    os.symlink(\"../input/home-data-for-ml-course/test.csv\", \"../input/test.csv\") \n",
    "from learntools.core import binder\n",
    "binder.bind(globals())\n",
    "from learntools.ml_intermediate.ex6 import *\n",
    "print(\"Setup Complete\")"
   ]
  },
  {
   "cell_type": "markdown",
   "id": "0bd4173c",
   "metadata": {
    "papermill": {
     "duration": 0.015982,
     "end_time": "2021-08-17T10:15:59.534928",
     "exception": false,
     "start_time": "2021-08-17T10:15:59.518946",
     "status": "completed"
    },
    "tags": []
   },
   "source": [
    "You will work with the [Housing Prices Competition for Kaggle Learn Users](https://www.kaggle.com/c/home-data-for-ml-course) dataset from the previous exercise. \n",
    "\n",
    "![Ames Housing dataset image](https://i.imgur.com/lTJVG4e.png)\n",
    "\n",
    "Run the next code cell without changes to load the training and validation sets in `X_train`, `X_valid`, `y_train`, and `y_valid`.  The test set is loaded in `X_test`."
   ]
  },
  {
   "cell_type": "code",
   "execution_count": 2,
   "id": "f7648db7",
   "metadata": {
    "execution": {
     "iopub.execute_input": "2021-08-17T10:15:59.580155Z",
     "iopub.status.busy": "2021-08-17T10:15:59.578538Z",
     "iopub.status.idle": "2021-08-17T10:15:59.803257Z",
     "shell.execute_reply": "2021-08-17T10:15:59.803795Z",
     "shell.execute_reply.started": "2021-08-17T10:12:29.161030Z"
    },
    "papermill": {
     "duration": 0.252833,
     "end_time": "2021-08-17T10:15:59.803987",
     "exception": false,
     "start_time": "2021-08-17T10:15:59.551154",
     "status": "completed"
    },
    "tags": []
   },
   "outputs": [],
   "source": [
    "import pandas as pd\n",
    "from sklearn.model_selection import train_test_split\n",
    "\n",
    "# Read the data\n",
    "X = pd.read_csv('../input/train.csv', index_col='Id')\n",
    "X_test_full = pd.read_csv('../input/test.csv', index_col='Id')\n",
    "\n",
    "# Remove rows with missing target, separate target from predictors\n",
    "X.dropna(axis=0, subset=['SalePrice'], inplace=True)\n",
    "y = X.SalePrice              \n",
    "X.drop(['SalePrice'], axis=1, inplace=True)\n",
    "\n",
    "# Break off validation set from training data\n",
    "X_train_full, X_valid_full, y_train, y_valid = train_test_split(X, y, train_size=0.8, test_size=0.2,\n",
    "                                                                random_state=0)\n",
    "\n",
    "# \"Cardinality\" means the number of unique values in a column\n",
    "# Select categorical columns with relatively low cardinality (convenient but arbitrary)\n",
    "low_cardinality_cols = [cname for cname in X_train_full.columns if X_train_full[cname].nunique() < 10 and \n",
    "                        X_train_full[cname].dtype == \"object\"]\n",
    "\n",
    "# Select numeric columns\n",
    "numeric_cols = [cname for cname in X_train_full.columns if X_train_full[cname].dtype in ['int64', 'float64']]\n",
    "\n",
    "# Keep selected columns only\n",
    "my_cols = low_cardinality_cols + numeric_cols\n",
    "X_train = X_train_full[my_cols].copy()\n",
    "X_valid = X_valid_full[my_cols].copy()\n",
    "X_test = X_test_full[my_cols].copy()\n",
    "\n",
    "# One-hot encode the data (to shorten the code, we use pandas)\n",
    "X_train = pd.get_dummies(X_train)\n",
    "X_valid = pd.get_dummies(X_valid)\n",
    "X_test = pd.get_dummies(X_test)\n",
    "X_train, X_valid = X_train.align(X_valid, join='left', axis=1)\n",
    "X_train, X_test = X_train.align(X_test, join='left', axis=1)"
   ]
  },
  {
   "cell_type": "markdown",
   "id": "0e239c2f",
   "metadata": {
    "papermill": {
     "duration": 0.017451,
     "end_time": "2021-08-17T10:15:59.838480",
     "exception": false,
     "start_time": "2021-08-17T10:15:59.821029",
     "status": "completed"
    },
    "tags": []
   },
   "source": [
    "# Step 1: Build model\n",
    "\n",
    "### Part A\n",
    "\n",
    "In this step, you'll build and train your first model with gradient boosting.\n",
    "\n",
    "- Begin by setting `my_model_1` to an XGBoost model.  Use the [XGBRegressor](https://xgboost.readthedocs.io/en/latest/python/python_api.html#xgboost.XGBRegressor) class, and set the random seed to 0 (`random_state=0`).  **Leave all other parameters as default.**\n",
    "- Then, fit the model to the training data in `X_train` and `y_train`."
   ]
  },
  {
   "cell_type": "code",
   "execution_count": 3,
   "id": "fc3f937e",
   "metadata": {
    "execution": {
     "iopub.execute_input": "2021-08-17T10:15:59.875221Z",
     "iopub.status.busy": "2021-08-17T10:15:59.874258Z",
     "iopub.status.idle": "2021-08-17T10:16:00.574850Z",
     "shell.execute_reply": "2021-08-17T10:16:00.575405Z",
     "shell.execute_reply.started": "2021-08-17T10:12:50.387424Z"
    },
    "papermill": {
     "duration": 0.720217,
     "end_time": "2021-08-17T10:16:00.575621",
     "exception": false,
     "start_time": "2021-08-17T10:15:59.855404",
     "status": "completed"
    },
    "tags": []
   },
   "outputs": [
    {
     "data": {
      "application/javascript": [
       "parent.postMessage({\"jupyterEvent\": \"custom.exercise_interaction\", \"data\": {\"outcomeType\": 1, \"valueTowardsCompletion\": 0.5, \"interactionType\": 1, \"questionType\": 2, \"questionId\": \"1.1_Model1A\", \"learnToolsVersion\": \"0.3.4\", \"failureMessage\": \"\", \"exceptionClass\": \"\", \"trace\": \"\"}}, \"*\")"
      ],
      "text/plain": [
       "<IPython.core.display.Javascript object>"
      ]
     },
     "metadata": {},
     "output_type": "display_data"
    },
    {
     "data": {
      "text/markdown": [
       "<span style=\"color:#33cc33\">Correct</span>"
      ],
      "text/plain": [
       "Correct"
      ]
     },
     "metadata": {},
     "output_type": "display_data"
    }
   ],
   "source": [
    "from xgboost import XGBRegressor\n",
    "\n",
    "# Define the model\n",
    "my_model_1 = XGBRegressor(random_state=0) # Your code here\n",
    "\n",
    "# Fit the model\n",
    "my_model_1.fit(X_train, y_train) # Your code here\n",
    "\n",
    "# Check your answer\n",
    "step_1.a.check()"
   ]
  },
  {
   "cell_type": "code",
   "execution_count": 4,
   "id": "ffc70dee",
   "metadata": {
    "execution": {
     "iopub.execute_input": "2021-08-17T10:16:00.613865Z",
     "iopub.status.busy": "2021-08-17T10:16:00.612885Z",
     "iopub.status.idle": "2021-08-17T10:16:00.622759Z",
     "shell.execute_reply": "2021-08-17T10:16:00.623217Z",
     "shell.execute_reply.started": "2021-08-17T10:12:54.405568Z"
    },
    "papermill": {
     "duration": 0.03074,
     "end_time": "2021-08-17T10:16:00.623428",
     "exception": false,
     "start_time": "2021-08-17T10:16:00.592688",
     "status": "completed"
    },
    "tags": []
   },
   "outputs": [
    {
     "data": {
      "application/javascript": [
       "parent.postMessage({\"jupyterEvent\": \"custom.exercise_interaction\", \"data\": {\"interactionType\": 2, \"questionType\": 2, \"questionId\": \"1.1_Model1A\", \"learnToolsVersion\": \"0.3.4\", \"valueTowardsCompletion\": 0.0, \"failureMessage\": \"\", \"exceptionClass\": \"\", \"trace\": \"\", \"outcomeType\": 4}}, \"*\")"
      ],
      "text/plain": [
       "<IPython.core.display.Javascript object>"
      ]
     },
     "metadata": {},
     "output_type": "display_data"
    },
    {
     "data": {
      "text/markdown": [
       "<span style=\"color:#3366cc\">Hint:</span> Begin by defining the model with `my_model_1 = XGBRegressor(random_state=0)`. Then, you can fit the model with the `fit()` method."
      ],
      "text/plain": [
       "Hint: Begin by defining the model with `my_model_1 = XGBRegressor(random_state=0)`. Then, you can fit the model with the `fit()` method."
      ]
     },
     "metadata": {},
     "output_type": "display_data"
    },
    {
     "data": {
      "application/javascript": [
       "parent.postMessage({\"jupyterEvent\": \"custom.exercise_interaction\", \"data\": {\"interactionType\": 3, \"questionType\": 2, \"questionId\": \"1.1_Model1A\", \"learnToolsVersion\": \"0.3.4\", \"valueTowardsCompletion\": 0.0, \"failureMessage\": \"\", \"exceptionClass\": \"\", \"trace\": \"\", \"outcomeType\": 4}}, \"*\")"
      ],
      "text/plain": [
       "<IPython.core.display.Javascript object>"
      ]
     },
     "metadata": {},
     "output_type": "display_data"
    },
    {
     "data": {
      "text/markdown": [
       "<span style=\"color:#33cc99\">Solution:</span> \n",
       "```python\n",
       "# Define the model\n",
       "my_model_1 = XGBRegressor(random_state=0)\n",
       "\n",
       "# Fit the model\n",
       "my_model_1.fit(X_train, y_train)\n",
       "\n",
       "```"
      ],
      "text/plain": [
       "Solution: \n",
       "```python\n",
       "# Define the model\n",
       "my_model_1 = XGBRegressor(random_state=0)\n",
       "\n",
       "# Fit the model\n",
       "my_model_1.fit(X_train, y_train)\n",
       "\n",
       "```"
      ]
     },
     "metadata": {},
     "output_type": "display_data"
    }
   ],
   "source": [
    "# Lines below will give you a hint or solution code\n",
    "step_1.a.hint()\n",
    "step_1.a.solution()"
   ]
  },
  {
   "cell_type": "markdown",
   "id": "66d8714e",
   "metadata": {
    "papermill": {
     "duration": 0.018489,
     "end_time": "2021-08-17T10:16:00.660928",
     "exception": false,
     "start_time": "2021-08-17T10:16:00.642439",
     "status": "completed"
    },
    "tags": []
   },
   "source": [
    "### Part B\n",
    "\n",
    "Set `predictions_1` to the model's predictions for the validation data.  Recall that the validation features are stored in `X_valid`."
   ]
  },
  {
   "cell_type": "code",
   "execution_count": 5,
   "id": "ad247879",
   "metadata": {
    "execution": {
     "iopub.execute_input": "2021-08-17T10:16:00.702263Z",
     "iopub.status.busy": "2021-08-17T10:16:00.701627Z",
     "iopub.status.idle": "2021-08-17T10:16:00.717598Z",
     "shell.execute_reply": "2021-08-17T10:16:00.718117Z",
     "shell.execute_reply.started": "2021-08-17T10:13:30.797405Z"
    },
    "papermill": {
     "duration": 0.038074,
     "end_time": "2021-08-17T10:16:00.718326",
     "exception": false,
     "start_time": "2021-08-17T10:16:00.680252",
     "status": "completed"
    },
    "tags": []
   },
   "outputs": [
    {
     "data": {
      "application/javascript": [
       "parent.postMessage({\"jupyterEvent\": \"custom.exercise_interaction\", \"data\": {\"outcomeType\": 1, \"valueTowardsCompletion\": 0.5, \"interactionType\": 1, \"questionType\": 2, \"questionId\": \"1.2_Model1B\", \"learnToolsVersion\": \"0.3.4\", \"failureMessage\": \"\", \"exceptionClass\": \"\", \"trace\": \"\"}}, \"*\")"
      ],
      "text/plain": [
       "<IPython.core.display.Javascript object>"
      ]
     },
     "metadata": {},
     "output_type": "display_data"
    },
    {
     "data": {
      "text/markdown": [
       "<span style=\"color:#33cc33\">Correct</span>"
      ],
      "text/plain": [
       "Correct"
      ]
     },
     "metadata": {},
     "output_type": "display_data"
    }
   ],
   "source": [
    "from sklearn.metrics import mean_absolute_error\n",
    "\n",
    "# Get predictions\n",
    "predictions_1 = my_model_1.predict(X_valid) # Your code here\n",
    "\n",
    "# Check your answer\n",
    "step_1.b.check()"
   ]
  },
  {
   "cell_type": "code",
   "execution_count": 6,
   "id": "f557aa84",
   "metadata": {
    "execution": {
     "iopub.execute_input": "2021-08-17T10:16:00.764813Z",
     "iopub.status.busy": "2021-08-17T10:16:00.764093Z",
     "iopub.status.idle": "2021-08-17T10:16:00.773167Z",
     "shell.execute_reply": "2021-08-17T10:16:00.773809Z",
     "shell.execute_reply.started": "2021-08-17T10:13:33.222784Z"
    },
    "papermill": {
     "duration": 0.034479,
     "end_time": "2021-08-17T10:16:00.773982",
     "exception": false,
     "start_time": "2021-08-17T10:16:00.739503",
     "status": "completed"
    },
    "tags": []
   },
   "outputs": [
    {
     "data": {
      "application/javascript": [
       "parent.postMessage({\"jupyterEvent\": \"custom.exercise_interaction\", \"data\": {\"interactionType\": 2, \"questionType\": 2, \"questionId\": \"1.2_Model1B\", \"learnToolsVersion\": \"0.3.4\", \"valueTowardsCompletion\": 0.0, \"failureMessage\": \"\", \"exceptionClass\": \"\", \"trace\": \"\", \"outcomeType\": 4}}, \"*\")"
      ],
      "text/plain": [
       "<IPython.core.display.Javascript object>"
      ]
     },
     "metadata": {},
     "output_type": "display_data"
    },
    {
     "data": {
      "text/markdown": [
       "<span style=\"color:#3366cc\">Hint:</span> Use the `predict()` method to generate validation predictions."
      ],
      "text/plain": [
       "Hint: Use the `predict()` method to generate validation predictions."
      ]
     },
     "metadata": {},
     "output_type": "display_data"
    },
    {
     "data": {
      "application/javascript": [
       "parent.postMessage({\"jupyterEvent\": \"custom.exercise_interaction\", \"data\": {\"interactionType\": 3, \"questionType\": 2, \"questionId\": \"1.2_Model1B\", \"learnToolsVersion\": \"0.3.4\", \"valueTowardsCompletion\": 0.0, \"failureMessage\": \"\", \"exceptionClass\": \"\", \"trace\": \"\", \"outcomeType\": 4}}, \"*\")"
      ],
      "text/plain": [
       "<IPython.core.display.Javascript object>"
      ]
     },
     "metadata": {},
     "output_type": "display_data"
    },
    {
     "data": {
      "text/markdown": [
       "<span style=\"color:#33cc99\">Solution:</span> \n",
       "```python\n",
       "# Get predictions\n",
       "predictions_1 = my_model_1.predict(X_valid)\n",
       "\n",
       "```"
      ],
      "text/plain": [
       "Solution: \n",
       "```python\n",
       "# Get predictions\n",
       "predictions_1 = my_model_1.predict(X_valid)\n",
       "\n",
       "```"
      ]
     },
     "metadata": {},
     "output_type": "display_data"
    }
   ],
   "source": [
    "# Lines below will give you a hint or solution code\n",
    "step_1.b.hint()\n",
    "step_1.b.solution()"
   ]
  },
  {
   "cell_type": "markdown",
   "id": "4dbe8683",
   "metadata": {
    "papermill": {
     "duration": 0.021574,
     "end_time": "2021-08-17T10:16:00.817512",
     "exception": false,
     "start_time": "2021-08-17T10:16:00.795938",
     "status": "completed"
    },
    "tags": []
   },
   "source": [
    "### Part C\n",
    "\n",
    "Finally, use the `mean_absolute_error()` function to calculate the mean absolute error (MAE) corresponding to the predictions for the validation set.  Recall that the labels for the validation data are stored in `y_valid`."
   ]
  },
  {
   "cell_type": "code",
   "execution_count": 7,
   "id": "28318d95",
   "metadata": {
    "execution": {
     "iopub.execute_input": "2021-08-17T10:16:00.864016Z",
     "iopub.status.busy": "2021-08-17T10:16:00.863421Z",
     "iopub.status.idle": "2021-08-17T10:16:00.870904Z",
     "shell.execute_reply": "2021-08-17T10:16:00.871418Z",
     "shell.execute_reply.started": "2021-08-17T10:13:53.029856Z"
    },
    "papermill": {
     "duration": 0.032273,
     "end_time": "2021-08-17T10:16:00.871587",
     "exception": false,
     "start_time": "2021-08-17T10:16:00.839314",
     "status": "completed"
    },
    "tags": []
   },
   "outputs": [
    {
     "data": {
      "application/javascript": [
       "parent.postMessage({\"jupyterEvent\": \"custom.exercise_interaction\", \"data\": {\"outcomeType\": 1, \"valueTowardsCompletion\": 0.5, \"interactionType\": 1, \"questionType\": 2, \"questionId\": \"1.3_Model1C\", \"learnToolsVersion\": \"0.3.4\", \"failureMessage\": \"\", \"exceptionClass\": \"\", \"trace\": \"\"}}, \"*\")"
      ],
      "text/plain": [
       "<IPython.core.display.Javascript object>"
      ]
     },
     "metadata": {},
     "output_type": "display_data"
    },
    {
     "data": {
      "text/markdown": [
       "<span style=\"color:#33cc33\">Correct</span>"
      ],
      "text/plain": [
       "Correct"
      ]
     },
     "metadata": {},
     "output_type": "display_data"
    }
   ],
   "source": [
    "# Calculate MAE\n",
    "mae_1 = mean_absolute_error(y_valid, predictions_1) # Your code here\n",
    "\n",
    "# Uncomment to print MAE\n",
    "# print(\"Mean Absolute Error:\" , mae_1)\n",
    "\n",
    "# Check your answer\n",
    "step_1.c.check()"
   ]
  },
  {
   "cell_type": "code",
   "execution_count": 8,
   "id": "fa7d4519",
   "metadata": {
    "execution": {
     "iopub.execute_input": "2021-08-17T10:16:00.921957Z",
     "iopub.status.busy": "2021-08-17T10:16:00.921271Z",
     "iopub.status.idle": "2021-08-17T10:16:00.930003Z",
     "shell.execute_reply": "2021-08-17T10:16:00.930518Z",
     "shell.execute_reply.started": "2021-08-17T10:13:55.570023Z"
    },
    "papermill": {
     "duration": 0.035922,
     "end_time": "2021-08-17T10:16:00.930708",
     "exception": false,
     "start_time": "2021-08-17T10:16:00.894786",
     "status": "completed"
    },
    "tags": []
   },
   "outputs": [
    {
     "data": {
      "application/javascript": [
       "parent.postMessage({\"jupyterEvent\": \"custom.exercise_interaction\", \"data\": {\"interactionType\": 2, \"questionType\": 2, \"questionId\": \"1.3_Model1C\", \"learnToolsVersion\": \"0.3.4\", \"valueTowardsCompletion\": 0.0, \"failureMessage\": \"\", \"exceptionClass\": \"\", \"trace\": \"\", \"outcomeType\": 4}}, \"*\")"
      ],
      "text/plain": [
       "<IPython.core.display.Javascript object>"
      ]
     },
     "metadata": {},
     "output_type": "display_data"
    },
    {
     "data": {
      "text/markdown": [
       "<span style=\"color:#3366cc\">Hint:</span> The `mean_absolute_error` function should take the predictions in `predictions_1` and the validation target in `y_valid` as arguments."
      ],
      "text/plain": [
       "Hint: The `mean_absolute_error` function should take the predictions in `predictions_1` and the validation target in `y_valid` as arguments."
      ]
     },
     "metadata": {},
     "output_type": "display_data"
    },
    {
     "data": {
      "application/javascript": [
       "parent.postMessage({\"jupyterEvent\": \"custom.exercise_interaction\", \"data\": {\"interactionType\": 3, \"questionType\": 2, \"questionId\": \"1.3_Model1C\", \"learnToolsVersion\": \"0.3.4\", \"valueTowardsCompletion\": 0.0, \"failureMessage\": \"\", \"exceptionClass\": \"\", \"trace\": \"\", \"outcomeType\": 4}}, \"*\")"
      ],
      "text/plain": [
       "<IPython.core.display.Javascript object>"
      ]
     },
     "metadata": {},
     "output_type": "display_data"
    },
    {
     "data": {
      "text/markdown": [
       "<span style=\"color:#33cc99\">Solution:</span> \n",
       "```python\n",
       "# Calculate MAE\n",
       "mae_1 = mean_absolute_error(predictions_1, y_valid)\n",
       "print(\"Mean Absolute Error:\" , mae_1)\n",
       "\n",
       "```"
      ],
      "text/plain": [
       "Solution: \n",
       "```python\n",
       "# Calculate MAE\n",
       "mae_1 = mean_absolute_error(predictions_1, y_valid)\n",
       "print(\"Mean Absolute Error:\" , mae_1)\n",
       "\n",
       "```"
      ]
     },
     "metadata": {},
     "output_type": "display_data"
    }
   ],
   "source": [
    "# Lines below will give you a hint or solution code\n",
    "step_1.c.hint()\n",
    "step_1.c.solution()"
   ]
  },
  {
   "cell_type": "markdown",
   "id": "76f24deb",
   "metadata": {
    "papermill": {
     "duration": 0.024771,
     "end_time": "2021-08-17T10:16:00.981094",
     "exception": false,
     "start_time": "2021-08-17T10:16:00.956323",
     "status": "completed"
    },
    "tags": []
   },
   "source": [
    "# Step 2: Improve the model\n",
    "\n",
    "Now that you've trained a default model as baseline, it's time to tinker with the parameters, to see if you can get better performance!\n",
    "- Begin by setting `my_model_2` to an XGBoost model, using the [XGBRegressor](https://xgboost.readthedocs.io/en/latest/python/python_api.html#xgboost.XGBRegressor) class.  Use what you learned in the previous tutorial to figure out how to change the default parameters (like `n_estimators` and `learning_rate`) to get better results.\n",
    "- Then, fit the model to the training data in `X_train` and `y_train`.\n",
    "- Set `predictions_2` to the model's predictions for the validation data.  Recall that the validation features are stored in `X_valid`.\n",
    "- Finally, use the `mean_absolute_error()` function to calculate the mean absolute error (MAE) corresponding to the predictions on the validation set.  Recall that the labels for the validation data are stored in `y_valid`.\n",
    "\n",
    "In order for this step to be marked correct, your model in `my_model_2` must attain lower MAE than the model in `my_model_1`. "
   ]
  },
  {
   "cell_type": "code",
   "execution_count": 9,
   "id": "69b48de8",
   "metadata": {
    "execution": {
     "iopub.execute_input": "2021-08-17T10:16:01.034625Z",
     "iopub.status.busy": "2021-08-17T10:16:01.033901Z",
     "iopub.status.idle": "2021-08-17T10:16:07.749165Z",
     "shell.execute_reply": "2021-08-17T10:16:07.749808Z",
     "shell.execute_reply.started": "2021-08-17T10:15:04.986892Z"
    },
    "papermill": {
     "duration": 6.743938,
     "end_time": "2021-08-17T10:16:07.750015",
     "exception": false,
     "start_time": "2021-08-17T10:16:01.006077",
     "status": "completed"
    },
    "tags": []
   },
   "outputs": [
    {
     "data": {
      "application/javascript": [
       "parent.postMessage({\"jupyterEvent\": \"custom.exercise_interaction\", \"data\": {\"outcomeType\": 1, \"valueTowardsCompletion\": 0.5, \"interactionType\": 1, \"questionType\": 2, \"questionId\": \"2_Model2\", \"learnToolsVersion\": \"0.3.4\", \"failureMessage\": \"\", \"exceptionClass\": \"\", \"trace\": \"\"}}, \"*\")"
      ],
      "text/plain": [
       "<IPython.core.display.Javascript object>"
      ]
     },
     "metadata": {},
     "output_type": "display_data"
    },
    {
     "data": {
      "text/markdown": [
       "<span style=\"color:#33cc33\">Correct</span>"
      ],
      "text/plain": [
       "Correct"
      ]
     },
     "metadata": {},
     "output_type": "display_data"
    }
   ],
   "source": [
    "# Define the model\n",
    "my_model_2 = XGBRegressor(n_estimators=1000, learning_rate=0.05) # Your code here\n",
    "\n",
    "# Fit the model\n",
    "my_model_2.fit(X_train, y_train) # Your code here\n",
    "\n",
    "# Get predictions\n",
    "predictions_2 = my_model_2.predict(X_valid) # Your code here\n",
    "\n",
    "# Calculate MAE\n",
    "mae_2 = mean_absolute_error(predictions_2, y_valid) # Your code here\n",
    "\n",
    "# Uncomment to print MAE\n",
    "# print(\"Mean Absolute Error:\" , mae_2)\n",
    "\n",
    "# Check your answer\n",
    "step_2.check()"
   ]
  },
  {
   "cell_type": "code",
   "execution_count": 10,
   "id": "40e932e2",
   "metadata": {
    "execution": {
     "iopub.execute_input": "2021-08-17T10:16:07.812149Z",
     "iopub.status.busy": "2021-08-17T10:16:07.811478Z",
     "iopub.status.idle": "2021-08-17T10:16:07.819572Z",
     "shell.execute_reply": "2021-08-17T10:16:07.819013Z",
     "shell.execute_reply.started": "2021-08-17T10:15:11.570688Z"
    },
    "papermill": {
     "duration": 0.038759,
     "end_time": "2021-08-17T10:16:07.819715",
     "exception": false,
     "start_time": "2021-08-17T10:16:07.780956",
     "status": "completed"
    },
    "tags": []
   },
   "outputs": [
    {
     "data": {
      "application/javascript": [
       "parent.postMessage({\"jupyterEvent\": \"custom.exercise_interaction\", \"data\": {\"interactionType\": 2, \"questionType\": 2, \"questionId\": \"2_Model2\", \"learnToolsVersion\": \"0.3.4\", \"valueTowardsCompletion\": 0.0, \"failureMessage\": \"\", \"exceptionClass\": \"\", \"trace\": \"\", \"outcomeType\": 4}}, \"*\")"
      ],
      "text/plain": [
       "<IPython.core.display.Javascript object>"
      ]
     },
     "metadata": {},
     "output_type": "display_data"
    },
    {
     "data": {
      "text/markdown": [
       "<span style=\"color:#3366cc\">Hint:</span> In the official solution to this problem, we chose to increase the number of trees in the model (with the `n_estimators` parameter) and decrease the learning rate (with the `learning_rate` parameter)."
      ],
      "text/plain": [
       "Hint: In the official solution to this problem, we chose to increase the number of trees in the model (with the `n_estimators` parameter) and decrease the learning rate (with the `learning_rate` parameter)."
      ]
     },
     "metadata": {},
     "output_type": "display_data"
    },
    {
     "data": {
      "application/javascript": [
       "parent.postMessage({\"jupyterEvent\": \"custom.exercise_interaction\", \"data\": {\"interactionType\": 3, \"questionType\": 2, \"questionId\": \"2_Model2\", \"learnToolsVersion\": \"0.3.4\", \"valueTowardsCompletion\": 0.0, \"failureMessage\": \"\", \"exceptionClass\": \"\", \"trace\": \"\", \"outcomeType\": 4}}, \"*\")"
      ],
      "text/plain": [
       "<IPython.core.display.Javascript object>"
      ]
     },
     "metadata": {},
     "output_type": "display_data"
    },
    {
     "data": {
      "text/markdown": [
       "<span style=\"color:#33cc99\">Solution:</span> \n",
       "```python\n",
       "# Define the model\n",
       "my_model_2 = XGBRegressor(n_estimators=1000, learning_rate=0.05)\n",
       "\n",
       "# Fit the model\n",
       "my_model_2.fit(X_train, y_train)\n",
       "\n",
       "# Get predictions\n",
       "predictions_2 = my_model_2.predict(X_valid)\n",
       "\n",
       "# Calculate MAE\n",
       "mae_2 = mean_absolute_error(predictions_2, y_valid)\n",
       "print(\"Mean Absolute Error:\" , mae_2)\n",
       "\n",
       "```"
      ],
      "text/plain": [
       "Solution: \n",
       "```python\n",
       "# Define the model\n",
       "my_model_2 = XGBRegressor(n_estimators=1000, learning_rate=0.05)\n",
       "\n",
       "# Fit the model\n",
       "my_model_2.fit(X_train, y_train)\n",
       "\n",
       "# Get predictions\n",
       "predictions_2 = my_model_2.predict(X_valid)\n",
       "\n",
       "# Calculate MAE\n",
       "mae_2 = mean_absolute_error(predictions_2, y_valid)\n",
       "print(\"Mean Absolute Error:\" , mae_2)\n",
       "\n",
       "```"
      ]
     },
     "metadata": {},
     "output_type": "display_data"
    }
   ],
   "source": [
    "# Lines below will give you a hint or solution code\n",
    "step_2.hint()\n",
    "step_2.solution()"
   ]
  },
  {
   "cell_type": "markdown",
   "id": "fe2eecc6",
   "metadata": {
    "papermill": {
     "duration": 0.027302,
     "end_time": "2021-08-17T10:16:07.874961",
     "exception": false,
     "start_time": "2021-08-17T10:16:07.847659",
     "status": "completed"
    },
    "tags": []
   },
   "source": [
    "# Step 3: Break the model\n",
    "\n",
    "In this step, you will create a model that performs worse than the original model in Step 1.  This will help you to develop your intuition for how to set parameters.  You might even find that you accidentally get better performance, which is ultimately a nice problem to have and a valuable learning experience!\n",
    "- Begin by setting `my_model_3` to an XGBoost model, using the [XGBRegressor](https://xgboost.readthedocs.io/en/latest/python/python_api.html#xgboost.XGBRegressor) class.  Use what you learned in the previous tutorial to figure out how to change the default parameters (like `n_estimators` and `learning_rate`) to design a model to get high MAE.\n",
    "- Then, fit the model to the training data in `X_train` and `y_train`.\n",
    "- Set `predictions_3` to the model's predictions for the validation data.  Recall that the validation features are stored in `X_valid`.\n",
    "- Finally, use the `mean_absolute_error()` function to calculate the mean absolute error (MAE) corresponding to the predictions on the validation set.  Recall that the labels for the validation data are stored in `y_valid`.\n",
    "\n",
    "In order for this step to be marked correct, your model in `my_model_3` must attain higher MAE than the model in `my_model_1`. "
   ]
  },
  {
   "cell_type": "code",
   "execution_count": 11,
   "id": "76a96470",
   "metadata": {
    "execution": {
     "iopub.execute_input": "2021-08-17T10:16:07.943232Z",
     "iopub.status.busy": "2021-08-17T10:16:07.942398Z",
     "iopub.status.idle": "2021-08-17T10:16:07.974385Z",
     "shell.execute_reply": "2021-08-17T10:16:07.975015Z",
     "shell.execute_reply.started": "2021-08-17T10:15:34.752227Z"
    },
    "papermill": {
     "duration": 0.072562,
     "end_time": "2021-08-17T10:16:07.975222",
     "exception": false,
     "start_time": "2021-08-17T10:16:07.902660",
     "status": "completed"
    },
    "tags": []
   },
   "outputs": [
    {
     "data": {
      "application/javascript": [
       "parent.postMessage({\"jupyterEvent\": \"custom.exercise_interaction\", \"data\": {\"outcomeType\": 1, \"valueTowardsCompletion\": 0.5, \"interactionType\": 1, \"questionType\": 2, \"questionId\": \"3_Model3\", \"learnToolsVersion\": \"0.3.4\", \"failureMessage\": \"\", \"exceptionClass\": \"\", \"trace\": \"\"}}, \"*\")"
      ],
      "text/plain": [
       "<IPython.core.display.Javascript object>"
      ]
     },
     "metadata": {},
     "output_type": "display_data"
    },
    {
     "data": {
      "text/markdown": [
       "<span style=\"color:#33cc33\">Correct</span>"
      ],
      "text/plain": [
       "Correct"
      ]
     },
     "metadata": {},
     "output_type": "display_data"
    }
   ],
   "source": [
    "# Define the model\n",
    "my_model_3 = XGBRegressor(n_estimators=1)\n",
    "\n",
    "# Fit the model\n",
    "my_model_3.fit(X_train, y_train) # Your code here\n",
    "\n",
    "# Get predictions\n",
    "predictions_3 = my_model_3.predict(X_valid)\n",
    "\n",
    "# Calculate MAE\n",
    "mae_3 = mean_absolute_error(predictions_3, y_valid)\n",
    "\n",
    "# Uncomment to print MAE\n",
    "# print(\"Mean Absolute Error:\" , mae_3)\n",
    "\n",
    "# Check your answer\n",
    "step_3.check()"
   ]
  },
  {
   "cell_type": "code",
   "execution_count": 12,
   "id": "8d1092f3",
   "metadata": {
    "execution": {
     "iopub.execute_input": "2021-08-17T10:16:08.043619Z",
     "iopub.status.busy": "2021-08-17T10:16:08.042747Z",
     "iopub.status.idle": "2021-08-17T10:16:08.053590Z",
     "shell.execute_reply": "2021-08-17T10:16:08.052998Z",
     "shell.execute_reply.started": "2021-08-17T10:15:12.471097Z"
    },
    "papermill": {
     "duration": 0.04476,
     "end_time": "2021-08-17T10:16:08.053733",
     "exception": false,
     "start_time": "2021-08-17T10:16:08.008973",
     "status": "completed"
    },
    "tags": []
   },
   "outputs": [
    {
     "data": {
      "application/javascript": [
       "parent.postMessage({\"jupyterEvent\": \"custom.exercise_interaction\", \"data\": {\"interactionType\": 2, \"questionType\": 2, \"questionId\": \"3_Model3\", \"learnToolsVersion\": \"0.3.4\", \"valueTowardsCompletion\": 0.0, \"failureMessage\": \"\", \"exceptionClass\": \"\", \"trace\": \"\", \"outcomeType\": 4}}, \"*\")"
      ],
      "text/plain": [
       "<IPython.core.display.Javascript object>"
      ]
     },
     "metadata": {},
     "output_type": "display_data"
    },
    {
     "data": {
      "text/markdown": [
       "<span style=\"color:#3366cc\">Hint:</span> In the official solution for this problem, we chose to greatly decrease the number of trees in the model by tinkering with the `n_estimators` parameter."
      ],
      "text/plain": [
       "Hint: In the official solution for this problem, we chose to greatly decrease the number of trees in the model by tinkering with the `n_estimators` parameter."
      ]
     },
     "metadata": {},
     "output_type": "display_data"
    },
    {
     "data": {
      "application/javascript": [
       "parent.postMessage({\"jupyterEvent\": \"custom.exercise_interaction\", \"data\": {\"interactionType\": 3, \"questionType\": 2, \"questionId\": \"3_Model3\", \"learnToolsVersion\": \"0.3.4\", \"valueTowardsCompletion\": 0.0, \"failureMessage\": \"\", \"exceptionClass\": \"\", \"trace\": \"\", \"outcomeType\": 4}}, \"*\")"
      ],
      "text/plain": [
       "<IPython.core.display.Javascript object>"
      ]
     },
     "metadata": {},
     "output_type": "display_data"
    },
    {
     "data": {
      "text/markdown": [
       "<span style=\"color:#33cc99\">Solution:</span> \n",
       "```python\n",
       "# Define the model\n",
       "my_model_3 = XGBRegressor(n_estimators=1)\n",
       "\n",
       "# Fit the model\n",
       "my_model_3.fit(X_train, y_train)\n",
       "\n",
       "# Get predictions\n",
       "predictions_3 = my_model_3.predict(X_valid)\n",
       "\n",
       "# Calculate MAE\n",
       "mae_3 = mean_absolute_error(predictions_3, y_valid)\n",
       "print(\"Mean Absolute Error:\" , mae_3)\n",
       "\n",
       "```"
      ],
      "text/plain": [
       "Solution: \n",
       "```python\n",
       "# Define the model\n",
       "my_model_3 = XGBRegressor(n_estimators=1)\n",
       "\n",
       "# Fit the model\n",
       "my_model_3.fit(X_train, y_train)\n",
       "\n",
       "# Get predictions\n",
       "predictions_3 = my_model_3.predict(X_valid)\n",
       "\n",
       "# Calculate MAE\n",
       "mae_3 = mean_absolute_error(predictions_3, y_valid)\n",
       "print(\"Mean Absolute Error:\" , mae_3)\n",
       "\n",
       "```"
      ]
     },
     "metadata": {},
     "output_type": "display_data"
    }
   ],
   "source": [
    "# Lines below will give you a hint or solution code\n",
    "step_3.hint()\n",
    "step_3.solution()"
   ]
  },
  {
   "cell_type": "markdown",
   "id": "969890ea",
   "metadata": {
    "papermill": {
     "duration": 0.030294,
     "end_time": "2021-08-17T10:16:08.115022",
     "exception": false,
     "start_time": "2021-08-17T10:16:08.084728",
     "status": "completed"
    },
    "tags": []
   },
   "source": [
    "# Keep going\n",
    "\n",
    "Continue to learn about **[data leakage](https://www.kaggle.com/alexisbcook/data-leakage)**.  This is an important issue for a data scientist to understand, and it has the potential to ruin your models in subtle and dangerous ways!"
   ]
  },
  {
   "cell_type": "markdown",
   "id": "864db221",
   "metadata": {
    "papermill": {
     "duration": 0.030291,
     "end_time": "2021-08-17T10:16:08.176100",
     "exception": false,
     "start_time": "2021-08-17T10:16:08.145809",
     "status": "completed"
    },
    "tags": []
   },
   "source": [
    "---\n",
    "\n",
    "\n",
    "\n",
    "\n",
    "*Have questions or comments? Visit the [Learn Discussion forum](https://www.kaggle.com/learn-forum/161289) to chat with other Learners.*"
   ]
  }
 ],
 "metadata": {
  "kernelspec": {
   "display_name": "Python 3",
   "language": "python",
   "name": "python3"
  },
  "language_info": {
   "codemirror_mode": {
    "name": "ipython",
    "version": 3
   },
   "file_extension": ".py",
   "mimetype": "text/x-python",
   "name": "python",
   "nbconvert_exporter": "python",
   "pygments_lexer": "ipython3",
   "version": "3.7.10"
  },
  "papermill": {
   "default_parameters": {},
   "duration": 20.544032,
   "end_time": "2021-08-17T10:16:09.018358",
   "environment_variables": {},
   "exception": null,
   "input_path": "__notebook__.ipynb",
   "output_path": "__notebook__.ipynb",
   "parameters": {},
   "start_time": "2021-08-17T10:15:48.474326",
   "version": "2.3.3"
  }
 },
 "nbformat": 4,
 "nbformat_minor": 5
}
