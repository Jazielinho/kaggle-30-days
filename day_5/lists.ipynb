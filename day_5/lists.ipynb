{
 "cells": [
  {
   "cell_type": "markdown",
   "id": "ongoing-enlargement",
   "metadata": {
    "papermill": {
     "duration": 0.048162,
     "end_time": "2021-06-04T13:07:00.134004",
     "exception": false,
     "start_time": "2021-06-04T13:07:00.085842",
     "status": "completed"
    },
    "tags": []
   },
   "source": [
    "# Lists\n",
    "\n",
    "Lists in Python represent ordered sequences of values. Here is an example of how to create them:"
   ]
  },
  {
   "cell_type": "code",
   "execution_count": 1,
   "id": "bulgarian-cardiff",
   "metadata": {
    "collapsed": true,
    "execution": {
     "iopub.execute_input": "2021-06-04T13:07:00.226991Z",
     "iopub.status.busy": "2021-06-04T13:07:00.226189Z",
     "iopub.status.idle": "2021-06-04T13:07:00.230442Z",
     "shell.execute_reply": "2021-06-04T13:07:00.229757Z"
    },
    "papermill": {
     "duration": 0.053291,
     "end_time": "2021-06-04T13:07:00.230645",
     "exception": false,
     "start_time": "2021-06-04T13:07:00.177354",
     "status": "completed"
    },
    "tags": []
   },
   "outputs": [],
   "source": [
    "primes = [2, 3, 5, 7]"
   ]
  },
  {
   "cell_type": "markdown",
   "id": "royal-madonna",
   "metadata": {
    "papermill": {
     "duration": 0.04445,
     "end_time": "2021-06-04T13:07:00.318659",
     "exception": false,
     "start_time": "2021-06-04T13:07:00.274209",
     "status": "completed"
    },
    "tags": []
   },
   "source": [
    "We can put other types of things in lists:"
   ]
  },
  {
   "cell_type": "code",
   "execution_count": 2,
   "id": "yellow-harbor",
   "metadata": {
    "collapsed": true,
    "execution": {
     "iopub.execute_input": "2021-06-04T13:07:00.414203Z",
     "iopub.status.busy": "2021-06-04T13:07:00.413141Z",
     "iopub.status.idle": "2021-06-04T13:07:00.416457Z",
     "shell.execute_reply": "2021-06-04T13:07:00.415804Z"
    },
    "papermill": {
     "duration": 0.053747,
     "end_time": "2021-06-04T13:07:00.416632",
     "exception": false,
     "start_time": "2021-06-04T13:07:00.362885",
     "status": "completed"
    },
    "tags": []
   },
   "outputs": [],
   "source": [
    "planets = ['Mercury', 'Venus', 'Earth', 'Mars', 'Jupiter', 'Saturn', 'Uranus', 'Neptune']"
   ]
  },
  {
   "cell_type": "markdown",
   "id": "congressional-inspection",
   "metadata": {
    "papermill": {
     "duration": 0.044587,
     "end_time": "2021-06-04T13:07:00.505077",
     "exception": false,
     "start_time": "2021-06-04T13:07:00.460490",
     "status": "completed"
    },
    "tags": []
   },
   "source": [
    "We can even make a list of lists:"
   ]
  },
  {
   "cell_type": "code",
   "execution_count": 3,
   "id": "buried-vault",
   "metadata": {
    "collapsed": true,
    "execution": {
     "iopub.execute_input": "2021-06-04T13:07:00.598116Z",
     "iopub.status.busy": "2021-06-04T13:07:00.597424Z",
     "iopub.status.idle": "2021-06-04T13:07:00.600577Z",
     "shell.execute_reply": "2021-06-04T13:07:00.599931Z"
    },
    "papermill": {
     "duration": 0.052707,
     "end_time": "2021-06-04T13:07:00.600719",
     "exception": false,
     "start_time": "2021-06-04T13:07:00.548012",
     "status": "completed"
    },
    "tags": []
   },
   "outputs": [],
   "source": [
    "hands = [\n",
    "    ['J', 'Q', 'K'],\n",
    "    ['2', '2', '2'],\n",
    "    ['6', 'A', 'K'], # (Comma after the last element is optional)\n",
    "]\n",
    "# (I could also have written this on one line, but it can get hard to read)\n",
    "hands = [['J', 'Q', 'K'], ['2', '2', '2'], ['6', 'A', 'K']]"
   ]
  },
  {
   "cell_type": "markdown",
   "id": "cognitive-resistance",
   "metadata": {
    "papermill": {
     "duration": 0.042641,
     "end_time": "2021-06-04T13:07:00.686747",
     "exception": false,
     "start_time": "2021-06-04T13:07:00.644106",
     "status": "completed"
    },
    "tags": []
   },
   "source": [
    "A list can contain a mix of different types of variables:"
   ]
  },
  {
   "cell_type": "code",
   "execution_count": 4,
   "id": "outside-patio",
   "metadata": {
    "collapsed": true,
    "execution": {
     "iopub.execute_input": "2021-06-04T13:07:00.780277Z",
     "iopub.status.busy": "2021-06-04T13:07:00.779609Z",
     "iopub.status.idle": "2021-06-04T13:07:00.782745Z",
     "shell.execute_reply": "2021-06-04T13:07:00.782083Z"
    },
    "papermill": {
     "duration": 0.053151,
     "end_time": "2021-06-04T13:07:00.782897",
     "exception": false,
     "start_time": "2021-06-04T13:07:00.729746",
     "status": "completed"
    },
    "tags": []
   },
   "outputs": [],
   "source": [
    "my_favourite_things = [32, 'raindrops on roses', help]\n",
    "# (Yes, Python's help function is *definitely* one of my favourite things)"
   ]
  },
  {
   "cell_type": "markdown",
   "id": "historic-tract",
   "metadata": {
    "papermill": {
     "duration": 0.043259,
     "end_time": "2021-06-04T13:07:00.869356",
     "exception": false,
     "start_time": "2021-06-04T13:07:00.826097",
     "status": "completed"
    },
    "tags": []
   },
   "source": [
    "## Indexing\n",
    "\n",
    "You can access individual list elements with square brackets.\n",
    "\n",
    "Which planet is closest to the sun? Python uses *zero-based* indexing, so the first element has index 0."
   ]
  },
  {
   "cell_type": "code",
   "execution_count": 5,
   "id": "ruled-relay",
   "metadata": {
    "execution": {
     "iopub.execute_input": "2021-06-04T13:07:00.962971Z",
     "iopub.status.busy": "2021-06-04T13:07:00.961896Z",
     "iopub.status.idle": "2021-06-04T13:07:00.967026Z",
     "shell.execute_reply": "2021-06-04T13:07:00.966487Z"
    },
    "papermill": {
     "duration": 0.05485,
     "end_time": "2021-06-04T13:07:00.967166",
     "exception": false,
     "start_time": "2021-06-04T13:07:00.912316",
     "status": "completed"
    },
    "tags": []
   },
   "outputs": [
    {
     "data": {
      "text/plain": [
       "'Mercury'"
      ]
     },
     "execution_count": 5,
     "metadata": {},
     "output_type": "execute_result"
    }
   ],
   "source": [
    "planets[0]"
   ]
  },
  {
   "cell_type": "markdown",
   "id": "conditional-ministry",
   "metadata": {
    "papermill": {
     "duration": 0.043473,
     "end_time": "2021-06-04T13:07:01.054752",
     "exception": false,
     "start_time": "2021-06-04T13:07:01.011279",
     "status": "completed"
    },
    "tags": []
   },
   "source": [
    "What's the next closest planet?"
   ]
  },
  {
   "cell_type": "code",
   "execution_count": 6,
   "id": "important-passing",
   "metadata": {
    "execution": {
     "iopub.execute_input": "2021-06-04T13:07:01.149179Z",
     "iopub.status.busy": "2021-06-04T13:07:01.148503Z",
     "iopub.status.idle": "2021-06-04T13:07:01.152289Z",
     "shell.execute_reply": "2021-06-04T13:07:01.151683Z"
    },
    "papermill": {
     "duration": 0.053089,
     "end_time": "2021-06-04T13:07:01.152435",
     "exception": false,
     "start_time": "2021-06-04T13:07:01.099346",
     "status": "completed"
    },
    "tags": []
   },
   "outputs": [
    {
     "data": {
      "text/plain": [
       "'Venus'"
      ]
     },
     "execution_count": 6,
     "metadata": {},
     "output_type": "execute_result"
    }
   ],
   "source": [
    "planets[1]"
   ]
  },
  {
   "cell_type": "markdown",
   "id": "motivated-rover",
   "metadata": {
    "papermill": {
     "duration": 0.043675,
     "end_time": "2021-06-04T13:07:01.240267",
     "exception": false,
     "start_time": "2021-06-04T13:07:01.196592",
     "status": "completed"
    },
    "tags": []
   },
   "source": [
    "Which planet is *furthest* from the sun?\n",
    "\n",
    "Elements at the end of the list can be accessed with negative numbers, starting from -1:"
   ]
  },
  {
   "cell_type": "code",
   "execution_count": 7,
   "id": "fossil-alcohol",
   "metadata": {
    "execution": {
     "iopub.execute_input": "2021-06-04T13:07:01.334890Z",
     "iopub.status.busy": "2021-06-04T13:07:01.333716Z",
     "iopub.status.idle": "2021-06-04T13:07:01.339169Z",
     "shell.execute_reply": "2021-06-04T13:07:01.338499Z"
    },
    "papermill": {
     "duration": 0.05512,
     "end_time": "2021-06-04T13:07:01.339314",
     "exception": false,
     "start_time": "2021-06-04T13:07:01.284194",
     "status": "completed"
    },
    "tags": []
   },
   "outputs": [
    {
     "data": {
      "text/plain": [
       "'Neptune'"
      ]
     },
     "execution_count": 7,
     "metadata": {},
     "output_type": "execute_result"
    }
   ],
   "source": [
    "planets[-1]"
   ]
  },
  {
   "cell_type": "code",
   "execution_count": 8,
   "id": "particular-intake",
   "metadata": {
    "execution": {
     "iopub.execute_input": "2021-06-04T13:07:01.434570Z",
     "iopub.status.busy": "2021-06-04T13:07:01.433662Z",
     "iopub.status.idle": "2021-06-04T13:07:01.438209Z",
     "shell.execute_reply": "2021-06-04T13:07:01.437655Z"
    },
    "papermill": {
     "duration": 0.05399,
     "end_time": "2021-06-04T13:07:01.438343",
     "exception": false,
     "start_time": "2021-06-04T13:07:01.384353",
     "status": "completed"
    },
    "tags": []
   },
   "outputs": [
    {
     "data": {
      "text/plain": [
       "'Uranus'"
      ]
     },
     "execution_count": 8,
     "metadata": {},
     "output_type": "execute_result"
    }
   ],
   "source": [
    "planets[-2]"
   ]
  },
  {
   "cell_type": "markdown",
   "id": "specific-article",
   "metadata": {
    "papermill": {
     "duration": 0.044991,
     "end_time": "2021-06-04T13:07:01.528081",
     "exception": false,
     "start_time": "2021-06-04T13:07:01.483090",
     "status": "completed"
    },
    "tags": []
   },
   "source": [
    "## Slicing\n",
    "\n",
    "What are the first three planets? We can answer this question using *slicing*:"
   ]
  },
  {
   "cell_type": "code",
   "execution_count": 9,
   "id": "homeless-johns",
   "metadata": {
    "execution": {
     "iopub.execute_input": "2021-06-04T13:07:01.626946Z",
     "iopub.status.busy": "2021-06-04T13:07:01.626100Z",
     "iopub.status.idle": "2021-06-04T13:07:01.630141Z",
     "shell.execute_reply": "2021-06-04T13:07:01.629576Z"
    },
    "papermill": {
     "duration": 0.056699,
     "end_time": "2021-06-04T13:07:01.630296",
     "exception": false,
     "start_time": "2021-06-04T13:07:01.573597",
     "status": "completed"
    },
    "tags": []
   },
   "outputs": [
    {
     "data": {
      "text/plain": [
       "['Mercury', 'Venus', 'Earth']"
      ]
     },
     "execution_count": 9,
     "metadata": {},
     "output_type": "execute_result"
    }
   ],
   "source": [
    "planets[0:3]"
   ]
  },
  {
   "cell_type": "markdown",
   "id": "pressing-garlic",
   "metadata": {
    "papermill": {
     "duration": 0.045321,
     "end_time": "2021-06-04T13:07:01.721450",
     "exception": false,
     "start_time": "2021-06-04T13:07:01.676129",
     "status": "completed"
    },
    "tags": []
   },
   "source": [
    "`planets[0:3]` is our way of asking for the elements of `planets` starting from index 0 and continuing up to *but not including* index 3.\n",
    "\n",
    "The starting and ending indices are both optional. If I leave out the start index, it's assumed to be 0. So I could rewrite the expression above as:"
   ]
  },
  {
   "cell_type": "code",
   "execution_count": 10,
   "id": "instrumental-patch",
   "metadata": {
    "execution": {
     "iopub.execute_input": "2021-06-04T13:07:01.821656Z",
     "iopub.status.busy": "2021-06-04T13:07:01.820399Z",
     "iopub.status.idle": "2021-06-04T13:07:01.824965Z",
     "shell.execute_reply": "2021-06-04T13:07:01.824281Z"
    },
    "papermill": {
     "duration": 0.057628,
     "end_time": "2021-06-04T13:07:01.825142",
     "exception": false,
     "start_time": "2021-06-04T13:07:01.767514",
     "status": "completed"
    },
    "tags": []
   },
   "outputs": [
    {
     "data": {
      "text/plain": [
       "['Mercury', 'Venus', 'Earth']"
      ]
     },
     "execution_count": 10,
     "metadata": {},
     "output_type": "execute_result"
    }
   ],
   "source": [
    "planets[:3]"
   ]
  },
  {
   "cell_type": "markdown",
   "id": "activated-overhead",
   "metadata": {
    "papermill": {
     "duration": 0.046251,
     "end_time": "2021-06-04T13:07:01.918000",
     "exception": false,
     "start_time": "2021-06-04T13:07:01.871749",
     "status": "completed"
    },
    "tags": []
   },
   "source": [
    "If I leave out the end index, it's assumed to be the length of the list."
   ]
  },
  {
   "cell_type": "code",
   "execution_count": 11,
   "id": "amazing-blowing",
   "metadata": {
    "execution": {
     "iopub.execute_input": "2021-06-04T13:07:02.017345Z",
     "iopub.status.busy": "2021-06-04T13:07:02.016678Z",
     "iopub.status.idle": "2021-06-04T13:07:02.020474Z",
     "shell.execute_reply": "2021-06-04T13:07:02.019882Z"
    },
    "papermill": {
     "duration": 0.055899,
     "end_time": "2021-06-04T13:07:02.020646",
     "exception": false,
     "start_time": "2021-06-04T13:07:01.964747",
     "status": "completed"
    },
    "tags": []
   },
   "outputs": [
    {
     "data": {
      "text/plain": [
       "['Mars', 'Jupiter', 'Saturn', 'Uranus', 'Neptune']"
      ]
     },
     "execution_count": 11,
     "metadata": {},
     "output_type": "execute_result"
    }
   ],
   "source": [
    "planets[3:]"
   ]
  },
  {
   "cell_type": "markdown",
   "id": "amino-treat",
   "metadata": {
    "papermill": {
     "duration": 0.047601,
     "end_time": "2021-06-04T13:07:02.114850",
     "exception": false,
     "start_time": "2021-06-04T13:07:02.067249",
     "status": "completed"
    },
    "tags": []
   },
   "source": [
    "i.e. the expression above means \"give me all the planets from index 3 onward\".\n",
    "\n",
    "We can also use negative indices when slicing:"
   ]
  },
  {
   "cell_type": "code",
   "execution_count": 12,
   "id": "cubic-company",
   "metadata": {
    "execution": {
     "iopub.execute_input": "2021-06-04T13:07:02.215447Z",
     "iopub.status.busy": "2021-06-04T13:07:02.214749Z",
     "iopub.status.idle": "2021-06-04T13:07:02.217951Z",
     "shell.execute_reply": "2021-06-04T13:07:02.218464Z"
    },
    "papermill": {
     "duration": 0.055957,
     "end_time": "2021-06-04T13:07:02.218687",
     "exception": false,
     "start_time": "2021-06-04T13:07:02.162730",
     "status": "completed"
    },
    "tags": []
   },
   "outputs": [
    {
     "data": {
      "text/plain": [
       "['Venus', 'Earth', 'Mars', 'Jupiter', 'Saturn', 'Uranus']"
      ]
     },
     "execution_count": 12,
     "metadata": {},
     "output_type": "execute_result"
    }
   ],
   "source": [
    "# All the planets except the first and last\n",
    "planets[1:-1]"
   ]
  },
  {
   "cell_type": "code",
   "execution_count": 13,
   "id": "charitable-employee",
   "metadata": {
    "execution": {
     "iopub.execute_input": "2021-06-04T13:07:02.317071Z",
     "iopub.status.busy": "2021-06-04T13:07:02.316262Z",
     "iopub.status.idle": "2021-06-04T13:07:02.321012Z",
     "shell.execute_reply": "2021-06-04T13:07:02.321559Z"
    },
    "papermill": {
     "duration": 0.055936,
     "end_time": "2021-06-04T13:07:02.321757",
     "exception": false,
     "start_time": "2021-06-04T13:07:02.265821",
     "status": "completed"
    },
    "tags": []
   },
   "outputs": [
    {
     "data": {
      "text/plain": [
       "['Saturn', 'Uranus', 'Neptune']"
      ]
     },
     "execution_count": 13,
     "metadata": {},
     "output_type": "execute_result"
    }
   ],
   "source": [
    "# The last 3 planets\n",
    "planets[-3:]"
   ]
  },
  {
   "cell_type": "markdown",
   "id": "annoying-arrangement",
   "metadata": {
    "papermill": {
     "duration": 0.047268,
     "end_time": "2021-06-04T13:07:02.416595",
     "exception": false,
     "start_time": "2021-06-04T13:07:02.369327",
     "status": "completed"
    },
    "tags": []
   },
   "source": [
    "## Changing lists\n",
    "\n",
    "Lists are \"mutable\", meaning they can be modified \"in place\".\n",
    "\n",
    "One way to modify a list is to assign to an index or slice expression.\n",
    "\n",
    "For example, let's say we want to rename Mars:"
   ]
  },
  {
   "cell_type": "code",
   "execution_count": 14,
   "id": "introductory-sandwich",
   "metadata": {
    "execution": {
     "iopub.execute_input": "2021-06-04T13:07:02.515793Z",
     "iopub.status.busy": "2021-06-04T13:07:02.515029Z",
     "iopub.status.idle": "2021-06-04T13:07:02.520110Z",
     "shell.execute_reply": "2021-06-04T13:07:02.520674Z"
    },
    "papermill": {
     "duration": 0.05646,
     "end_time": "2021-06-04T13:07:02.520869",
     "exception": false,
     "start_time": "2021-06-04T13:07:02.464409",
     "status": "completed"
    },
    "tags": []
   },
   "outputs": [
    {
     "data": {
      "text/plain": [
       "['Mercury',\n",
       " 'Venus',\n",
       " 'Earth',\n",
       " 'Malacandra',\n",
       " 'Jupiter',\n",
       " 'Saturn',\n",
       " 'Uranus',\n",
       " 'Neptune']"
      ]
     },
     "execution_count": 14,
     "metadata": {},
     "output_type": "execute_result"
    }
   ],
   "source": [
    "planets[3] = 'Malacandra'\n",
    "planets"
   ]
  },
  {
   "cell_type": "markdown",
   "id": "consistent-cosmetic",
   "metadata": {
    "papermill": {
     "duration": 0.048198,
     "end_time": "2021-06-04T13:07:02.618053",
     "exception": false,
     "start_time": "2021-06-04T13:07:02.569855",
     "status": "completed"
    },
    "tags": []
   },
   "source": [
    "Hm, that's quite a mouthful. Let's compensate by shortening the names of the first 3 planets."
   ]
  },
  {
   "cell_type": "code",
   "execution_count": 15,
   "id": "random-lawyer",
   "metadata": {
    "execution": {
     "iopub.execute_input": "2021-06-04T13:07:02.716493Z",
     "iopub.status.busy": "2021-06-04T13:07:02.715847Z",
     "iopub.status.idle": "2021-06-04T13:07:02.722063Z",
     "shell.execute_reply": "2021-06-04T13:07:02.721443Z"
    },
    "papermill": {
     "duration": 0.056647,
     "end_time": "2021-06-04T13:07:02.722199",
     "exception": false,
     "start_time": "2021-06-04T13:07:02.665552",
     "status": "completed"
    },
    "tags": []
   },
   "outputs": [
    {
     "name": "stdout",
     "output_type": "stream",
     "text": [
      "['Mur', 'Vee', 'Ur', 'Malacandra', 'Jupiter', 'Saturn', 'Uranus', 'Neptune']\n"
     ]
    }
   ],
   "source": [
    "planets[:3] = ['Mur', 'Vee', 'Ur']\n",
    "print(planets)\n",
    "# That was silly. Let's give them back their old names\n",
    "planets[:4] = ['Mercury', 'Venus', 'Earth', 'Mars',]"
   ]
  },
  {
   "cell_type": "markdown",
   "id": "selected-trick",
   "metadata": {
    "papermill": {
     "duration": 0.061848,
     "end_time": "2021-06-04T13:07:02.840969",
     "exception": false,
     "start_time": "2021-06-04T13:07:02.779121",
     "status": "completed"
    },
    "tags": []
   },
   "source": [
    "## List functions\n",
    "\n",
    "Python has several useful functions for working with lists.\n",
    "\n",
    "`len` gives the length of a list:"
   ]
  },
  {
   "cell_type": "code",
   "execution_count": 16,
   "id": "tamil-tonight",
   "metadata": {
    "execution": {
     "iopub.execute_input": "2021-06-04T13:07:02.948478Z",
     "iopub.status.busy": "2021-06-04T13:07:02.947559Z",
     "iopub.status.idle": "2021-06-04T13:07:02.952291Z",
     "shell.execute_reply": "2021-06-04T13:07:02.951686Z"
    },
    "papermill": {
     "duration": 0.058666,
     "end_time": "2021-06-04T13:07:02.952427",
     "exception": false,
     "start_time": "2021-06-04T13:07:02.893761",
     "status": "completed"
    },
    "tags": []
   },
   "outputs": [
    {
     "data": {
      "text/plain": [
       "8"
      ]
     },
     "execution_count": 16,
     "metadata": {},
     "output_type": "execute_result"
    }
   ],
   "source": [
    "# How many planets are there?\n",
    "len(planets)"
   ]
  },
  {
   "cell_type": "markdown",
   "id": "medieval-typing",
   "metadata": {
    "papermill": {
     "duration": 0.048299,
     "end_time": "2021-06-04T13:07:03.049308",
     "exception": false,
     "start_time": "2021-06-04T13:07:03.001009",
     "status": "completed"
    },
    "tags": []
   },
   "source": [
    "`sorted` returns a sorted version of a list:"
   ]
  },
  {
   "cell_type": "code",
   "execution_count": 17,
   "id": "centered-harassment",
   "metadata": {
    "execution": {
     "iopub.execute_input": "2021-06-04T13:07:03.152148Z",
     "iopub.status.busy": "2021-06-04T13:07:03.151179Z",
     "iopub.status.idle": "2021-06-04T13:07:03.157640Z",
     "shell.execute_reply": "2021-06-04T13:07:03.157128Z"
    },
    "papermill": {
     "duration": 0.058359,
     "end_time": "2021-06-04T13:07:03.157785",
     "exception": false,
     "start_time": "2021-06-04T13:07:03.099426",
     "status": "completed"
    },
    "tags": []
   },
   "outputs": [
    {
     "data": {
      "text/plain": [
       "['Earth', 'Jupiter', 'Mars', 'Mercury', 'Neptune', 'Saturn', 'Uranus', 'Venus']"
      ]
     },
     "execution_count": 17,
     "metadata": {},
     "output_type": "execute_result"
    }
   ],
   "source": [
    "# The planets sorted in alphabetical order\n",
    "sorted(planets)"
   ]
  },
  {
   "cell_type": "markdown",
   "id": "honey-brunswick",
   "metadata": {
    "papermill": {
     "duration": 0.048785,
     "end_time": "2021-06-04T13:07:03.255337",
     "exception": false,
     "start_time": "2021-06-04T13:07:03.206552",
     "status": "completed"
    },
    "tags": []
   },
   "source": [
    "`sum` does what you might expect:"
   ]
  },
  {
   "cell_type": "code",
   "execution_count": 18,
   "id": "exempt-north",
   "metadata": {
    "execution": {
     "iopub.execute_input": "2021-06-04T13:07:03.358917Z",
     "iopub.status.busy": "2021-06-04T13:07:03.357928Z",
     "iopub.status.idle": "2021-06-04T13:07:03.362039Z",
     "shell.execute_reply": "2021-06-04T13:07:03.361501Z"
    },
    "papermill": {
     "duration": 0.057868,
     "end_time": "2021-06-04T13:07:03.362178",
     "exception": false,
     "start_time": "2021-06-04T13:07:03.304310",
     "status": "completed"
    },
    "tags": []
   },
   "outputs": [
    {
     "data": {
      "text/plain": [
       "17"
      ]
     },
     "execution_count": 18,
     "metadata": {},
     "output_type": "execute_result"
    }
   ],
   "source": [
    "primes = [2, 3, 5, 7]\n",
    "sum(primes)"
   ]
  },
  {
   "cell_type": "markdown",
   "id": "stock-judge",
   "metadata": {
    "papermill": {
     "duration": 0.048849,
     "end_time": "2021-06-04T13:07:03.460046",
     "exception": false,
     "start_time": "2021-06-04T13:07:03.411197",
     "status": "completed"
    },
    "tags": []
   },
   "source": [
    "We've previously used the `min` and `max` to get the minimum or maximum of several arguments. But we can also pass in a single list argument."
   ]
  },
  {
   "cell_type": "code",
   "execution_count": 19,
   "id": "running-rebecca",
   "metadata": {
    "execution": {
     "iopub.execute_input": "2021-06-04T13:07:03.564084Z",
     "iopub.status.busy": "2021-06-04T13:07:03.563080Z",
     "iopub.status.idle": "2021-06-04T13:07:03.567282Z",
     "shell.execute_reply": "2021-06-04T13:07:03.566775Z"
    },
    "papermill": {
     "duration": 0.057776,
     "end_time": "2021-06-04T13:07:03.567430",
     "exception": false,
     "start_time": "2021-06-04T13:07:03.509654",
     "status": "completed"
    },
    "tags": []
   },
   "outputs": [
    {
     "data": {
      "text/plain": [
       "7"
      ]
     },
     "execution_count": 19,
     "metadata": {},
     "output_type": "execute_result"
    }
   ],
   "source": [
    "max(primes)"
   ]
  },
  {
   "cell_type": "markdown",
   "id": "applicable-maria",
   "metadata": {
    "papermill": {
     "duration": 0.049701,
     "end_time": "2021-06-04T13:07:03.667992",
     "exception": false,
     "start_time": "2021-06-04T13:07:03.618291",
     "status": "completed"
    },
    "tags": []
   },
   "source": [
    "## Interlude: objects\n",
    "\n",
    "I've used the term 'object' a lot so far - you may have even read that *everything* in Python is an object. What does that mean?\n",
    "\n",
    "In short, objects carry some things around with them. You access that stuff using Python's dot syntax.\n",
    "\n",
    "For example, numbers in Python carry around an associated variable called `imag` representing their imaginary part. (You'll probably never need to use this unless you're doing some very weird math.)"
   ]
  },
  {
   "cell_type": "code",
   "execution_count": 20,
   "id": "instant-october",
   "metadata": {
    "execution": {
     "iopub.execute_input": "2021-06-04T13:07:03.773782Z",
     "iopub.status.busy": "2021-06-04T13:07:03.772859Z",
     "iopub.status.idle": "2021-06-04T13:07:03.776248Z",
     "shell.execute_reply": "2021-06-04T13:07:03.776700Z"
    },
    "papermill": {
     "duration": 0.058851,
     "end_time": "2021-06-04T13:07:03.776873",
     "exception": false,
     "start_time": "2021-06-04T13:07:03.718022",
     "status": "completed"
    },
    "tags": []
   },
   "outputs": [
    {
     "name": "stdout",
     "output_type": "stream",
     "text": [
      "0\n",
      "3.0\n"
     ]
    }
   ],
   "source": [
    "x = 12\n",
    "# x is a real number, so its imaginary part is 0.\n",
    "print(x.imag)\n",
    "# Here's how to make a complex number, in case you've ever been curious:\n",
    "c = 12 + 3j\n",
    "print(c.imag)"
   ]
  },
  {
   "cell_type": "markdown",
   "id": "individual-training",
   "metadata": {
    "papermill": {
     "duration": 0.050241,
     "end_time": "2021-06-04T13:07:03.877017",
     "exception": false,
     "start_time": "2021-06-04T13:07:03.826776",
     "status": "completed"
    },
    "tags": []
   },
   "source": [
    "The things an object carries around can also include functions. A function attached to an object is called a **method**. (Non-function things attached to an object, such as `imag`, are called *attributes*).\n",
    "\n",
    "For example, numbers have a method called `bit_length`. Again, we access it using dot syntax:"
   ]
  },
  {
   "cell_type": "code",
   "execution_count": 21,
   "id": "analyzed-concert",
   "metadata": {
    "execution": {
     "iopub.execute_input": "2021-06-04T13:07:03.983639Z",
     "iopub.status.busy": "2021-06-04T13:07:03.982586Z",
     "iopub.status.idle": "2021-06-04T13:07:03.987544Z",
     "shell.execute_reply": "2021-06-04T13:07:03.986993Z"
    },
    "papermill": {
     "duration": 0.060519,
     "end_time": "2021-06-04T13:07:03.987691",
     "exception": false,
     "start_time": "2021-06-04T13:07:03.927172",
     "status": "completed"
    },
    "tags": []
   },
   "outputs": [
    {
     "data": {
      "text/plain": [
       "<function int.bit_length()>"
      ]
     },
     "execution_count": 21,
     "metadata": {},
     "output_type": "execute_result"
    }
   ],
   "source": [
    "x.bit_length"
   ]
  },
  {
   "cell_type": "markdown",
   "id": "intimate-element",
   "metadata": {
    "papermill": {
     "duration": 0.051147,
     "end_time": "2021-06-04T13:07:04.090403",
     "exception": false,
     "start_time": "2021-06-04T13:07:04.039256",
     "status": "completed"
    },
    "tags": []
   },
   "source": [
    "To actually call it, we add parentheses:"
   ]
  },
  {
   "cell_type": "code",
   "execution_count": 22,
   "id": "wrapped-authentication",
   "metadata": {
    "execution": {
     "iopub.execute_input": "2021-06-04T13:07:04.197048Z",
     "iopub.status.busy": "2021-06-04T13:07:04.196351Z",
     "iopub.status.idle": "2021-06-04T13:07:04.200046Z",
     "shell.execute_reply": "2021-06-04T13:07:04.199504Z"
    },
    "papermill": {
     "duration": 0.058932,
     "end_time": "2021-06-04T13:07:04.200179",
     "exception": false,
     "start_time": "2021-06-04T13:07:04.141247",
     "status": "completed"
    },
    "tags": []
   },
   "outputs": [
    {
     "data": {
      "text/plain": [
       "4"
      ]
     },
     "execution_count": 22,
     "metadata": {},
     "output_type": "execute_result"
    }
   ],
   "source": [
    "x.bit_length()"
   ]
  },
  {
   "cell_type": "markdown",
   "id": "confident-blood",
   "metadata": {
    "papermill": {
     "duration": 0.050951,
     "end_time": "2021-06-04T13:07:04.302102",
     "exception": false,
     "start_time": "2021-06-04T13:07:04.251151",
     "status": "completed"
    },
    "tags": []
   },
   "source": [
    "> **Aside:** You've actually been calling methods already if you've been doing the exercises. In the exercise notebooks `q1`, `q2`, `q3`, etc. are all objects which have methods called `check`, `hint`, and `solution`.\n",
    "\n",
    "In the same way that we can pass functions to the `help` function (e.g. `help(max)`), we can also pass in methods:"
   ]
  },
  {
   "cell_type": "code",
   "execution_count": 23,
   "id": "contemporary-chaos",
   "metadata": {
    "execution": {
     "iopub.execute_input": "2021-06-04T13:07:04.409860Z",
     "iopub.status.busy": "2021-06-04T13:07:04.409192Z",
     "iopub.status.idle": "2021-06-04T13:07:04.412543Z",
     "shell.execute_reply": "2021-06-04T13:07:04.412975Z"
    },
    "papermill": {
     "duration": 0.060072,
     "end_time": "2021-06-04T13:07:04.413140",
     "exception": false,
     "start_time": "2021-06-04T13:07:04.353068",
     "status": "completed"
    },
    "tags": []
   },
   "outputs": [
    {
     "name": "stdout",
     "output_type": "stream",
     "text": [
      "Help on built-in function bit_length:\n",
      "\n",
      "bit_length() method of builtins.int instance\n",
      "    Number of bits necessary to represent self in binary.\n",
      "    \n",
      "    >>> bin(37)\n",
      "    '0b100101'\n",
      "    >>> (37).bit_length()\n",
      "    6\n",
      "\n"
     ]
    }
   ],
   "source": [
    "help(x.bit_length)"
   ]
  },
  {
   "cell_type": "markdown",
   "id": "treated-softball",
   "metadata": {
    "papermill": {
     "duration": 0.051226,
     "end_time": "2021-06-04T13:07:04.515693",
     "exception": false,
     "start_time": "2021-06-04T13:07:04.464467",
     "status": "completed"
    },
    "tags": []
   },
   "source": [
    "<!-- TODO:\n",
    "dir?\n",
    "A useful builtin method for interacting with objects is `dir`. `dir` asks: what are the names of all the things (methods, and attributes) that this object is carrying around?\n",
    "help(x)?\n",
    "-->\n",
    "\n",
    "The examples above were utterly obscure. None of the types of objects we've looked at so far (numbers, functions, booleans) have attributes or methods you're likely ever to use.\n",
    "\n",
    "But it turns out that lists have several methods which you'll use all the time."
   ]
  },
  {
   "cell_type": "markdown",
   "id": "junior-short",
   "metadata": {
    "papermill": {
     "duration": 0.051545,
     "end_time": "2021-06-04T13:07:04.618497",
     "exception": false,
     "start_time": "2021-06-04T13:07:04.566952",
     "status": "completed"
    },
    "tags": []
   },
   "source": [
    "## List methods"
   ]
  },
  {
   "cell_type": "markdown",
   "id": "female-housing",
   "metadata": {
    "papermill": {
     "duration": 0.050987,
     "end_time": "2021-06-04T13:07:04.721457",
     "exception": false,
     "start_time": "2021-06-04T13:07:04.670470",
     "status": "completed"
    },
    "tags": []
   },
   "source": [
    "`list.append` modifies a list by adding an item to the end:"
   ]
  },
  {
   "cell_type": "code",
   "execution_count": 24,
   "id": "every-numbers",
   "metadata": {
    "collapsed": true,
    "execution": {
     "iopub.execute_input": "2021-06-04T13:07:04.829692Z",
     "iopub.status.busy": "2021-06-04T13:07:04.829038Z",
     "iopub.status.idle": "2021-06-04T13:07:04.832315Z",
     "shell.execute_reply": "2021-06-04T13:07:04.832842Z"
    },
    "papermill": {
     "duration": 0.060027,
     "end_time": "2021-06-04T13:07:04.833031",
     "exception": false,
     "start_time": "2021-06-04T13:07:04.773004",
     "status": "completed"
    },
    "tags": []
   },
   "outputs": [],
   "source": [
    "# Pluto is a planet darn it!\n",
    "planets.append('Pluto')"
   ]
  },
  {
   "cell_type": "markdown",
   "id": "miniature-washer",
   "metadata": {
    "papermill": {
     "duration": 0.052299,
     "end_time": "2021-06-04T13:07:04.938262",
     "exception": false,
     "start_time": "2021-06-04T13:07:04.885963",
     "status": "completed"
    },
    "tags": []
   },
   "source": [
    "Why does the cell above have no output? Let's check the documentation by calling `help(planets.append)`.\n",
    "\n",
    "> **Aside:** `append` is a method carried around by *all* objects of type list, not just `planets`, so we also could have called `help(list.append)`. However, if we try to call `help(append)`, Python will complain that no variable exists called \"append\". The \"append\" name only exists within lists - it doesn't exist as a standalone name like builtin functions such as `max` or `len`."
   ]
  },
  {
   "cell_type": "code",
   "execution_count": 25,
   "id": "multiple-carter",
   "metadata": {
    "execution": {
     "iopub.execute_input": "2021-06-04T13:07:05.047727Z",
     "iopub.status.busy": "2021-06-04T13:07:05.047052Z",
     "iopub.status.idle": "2021-06-04T13:07:05.049705Z",
     "shell.execute_reply": "2021-06-04T13:07:05.050291Z"
    },
    "papermill": {
     "duration": 0.060268,
     "end_time": "2021-06-04T13:07:05.050462",
     "exception": false,
     "start_time": "2021-06-04T13:07:04.990194",
     "status": "completed"
    },
    "tags": []
   },
   "outputs": [
    {
     "name": "stdout",
     "output_type": "stream",
     "text": [
      "Help on built-in function append:\n",
      "\n",
      "append(object, /) method of builtins.list instance\n",
      "    Append object to the end of the list.\n",
      "\n"
     ]
    }
   ],
   "source": [
    "help(planets.append)"
   ]
  },
  {
   "cell_type": "markdown",
   "id": "judicial-southwest",
   "metadata": {
    "papermill": {
     "duration": 0.051789,
     "end_time": "2021-06-04T13:07:05.154268",
     "exception": false,
     "start_time": "2021-06-04T13:07:05.102479",
     "status": "completed"
    },
    "tags": []
   },
   "source": [
    "The `-> None` part is telling us that `list.append` doesn't return anything. But if we check the value of `planets`, we can see that the method call modified the value of `planets`:"
   ]
  },
  {
   "cell_type": "code",
   "execution_count": 26,
   "id": "elegant-kinase",
   "metadata": {
    "execution": {
     "iopub.execute_input": "2021-06-04T13:07:05.263617Z",
     "iopub.status.busy": "2021-06-04T13:07:05.262671Z",
     "iopub.status.idle": "2021-06-04T13:07:05.266491Z",
     "shell.execute_reply": "2021-06-04T13:07:05.266962Z"
    },
    "papermill": {
     "duration": 0.061065,
     "end_time": "2021-06-04T13:07:05.267134",
     "exception": false,
     "start_time": "2021-06-04T13:07:05.206069",
     "status": "completed"
    },
    "tags": []
   },
   "outputs": [
    {
     "data": {
      "text/plain": [
       "['Mercury',\n",
       " 'Venus',\n",
       " 'Earth',\n",
       " 'Mars',\n",
       " 'Jupiter',\n",
       " 'Saturn',\n",
       " 'Uranus',\n",
       " 'Neptune',\n",
       " 'Pluto']"
      ]
     },
     "execution_count": 26,
     "metadata": {},
     "output_type": "execute_result"
    }
   ],
   "source": [
    "planets"
   ]
  },
  {
   "cell_type": "markdown",
   "id": "great-freight",
   "metadata": {
    "papermill": {
     "duration": 0.05225,
     "end_time": "2021-06-04T13:07:05.371948",
     "exception": false,
     "start_time": "2021-06-04T13:07:05.319698",
     "status": "completed"
    },
    "tags": []
   },
   "source": [
    "`list.pop` removes and returns the last element of a list:"
   ]
  },
  {
   "cell_type": "code",
   "execution_count": 27,
   "id": "cellular-avatar",
   "metadata": {
    "execution": {
     "iopub.execute_input": "2021-06-04T13:07:05.482203Z",
     "iopub.status.busy": "2021-06-04T13:07:05.481283Z",
     "iopub.status.idle": "2021-06-04T13:07:05.485613Z",
     "shell.execute_reply": "2021-06-04T13:07:05.486062Z"
    },
    "papermill": {
     "duration": 0.061849,
     "end_time": "2021-06-04T13:07:05.486234",
     "exception": false,
     "start_time": "2021-06-04T13:07:05.424385",
     "status": "completed"
    },
    "tags": []
   },
   "outputs": [
    {
     "data": {
      "text/plain": [
       "'Pluto'"
      ]
     },
     "execution_count": 27,
     "metadata": {},
     "output_type": "execute_result"
    }
   ],
   "source": [
    "planets.pop()"
   ]
  },
  {
   "cell_type": "code",
   "execution_count": 28,
   "id": "competent-thesis",
   "metadata": {
    "execution": {
     "iopub.execute_input": "2021-06-04T13:07:05.597234Z",
     "iopub.status.busy": "2021-06-04T13:07:05.596435Z",
     "iopub.status.idle": "2021-06-04T13:07:05.600322Z",
     "shell.execute_reply": "2021-06-04T13:07:05.599717Z"
    },
    "papermill": {
     "duration": 0.061528,
     "end_time": "2021-06-04T13:07:05.600457",
     "exception": false,
     "start_time": "2021-06-04T13:07:05.538929",
     "status": "completed"
    },
    "tags": []
   },
   "outputs": [
    {
     "data": {
      "text/plain": [
       "['Mercury', 'Venus', 'Earth', 'Mars', 'Jupiter', 'Saturn', 'Uranus', 'Neptune']"
      ]
     },
     "execution_count": 28,
     "metadata": {},
     "output_type": "execute_result"
    }
   ],
   "source": [
    "planets"
   ]
  },
  {
   "cell_type": "markdown",
   "id": "comfortable-container",
   "metadata": {
    "papermill": {
     "duration": 0.053508,
     "end_time": "2021-06-04T13:07:05.709138",
     "exception": false,
     "start_time": "2021-06-04T13:07:05.655630",
     "status": "completed"
    },
    "tags": []
   },
   "source": [
    "### Searching lists\n",
    "\n",
    "Where does Earth fall in the order of planets? We can get its index using the `list.index` method."
   ]
  },
  {
   "cell_type": "code",
   "execution_count": 29,
   "id": "amended-bermuda",
   "metadata": {
    "execution": {
     "iopub.execute_input": "2021-06-04T13:07:05.821090Z",
     "iopub.status.busy": "2021-06-04T13:07:05.820409Z",
     "iopub.status.idle": "2021-06-04T13:07:05.823695Z",
     "shell.execute_reply": "2021-06-04T13:07:05.823007Z"
    },
    "papermill": {
     "duration": 0.061129,
     "end_time": "2021-06-04T13:07:05.823848",
     "exception": false,
     "start_time": "2021-06-04T13:07:05.762719",
     "status": "completed"
    },
    "tags": []
   },
   "outputs": [
    {
     "data": {
      "text/plain": [
       "2"
      ]
     },
     "execution_count": 29,
     "metadata": {},
     "output_type": "execute_result"
    }
   ],
   "source": [
    "planets.index('Earth')"
   ]
  },
  {
   "cell_type": "markdown",
   "id": "champion-enhancement",
   "metadata": {
    "papermill": {
     "duration": 0.053699,
     "end_time": "2021-06-04T13:07:05.932615",
     "exception": false,
     "start_time": "2021-06-04T13:07:05.878916",
     "status": "completed"
    },
    "tags": []
   },
   "source": [
    "It comes third (i.e. at index 2 - 0 indexing!).\n",
    "\n",
    "At what index does Pluto occur?"
   ]
  },
  {
   "cell_type": "code",
   "execution_count": 30,
   "id": "italic-basketball",
   "metadata": {
    "execution": {
     "iopub.execute_input": "2021-06-04T13:07:06.045063Z",
     "iopub.status.busy": "2021-06-04T13:07:06.044346Z",
     "iopub.status.idle": "2021-06-04T13:07:06.091591Z",
     "shell.execute_reply": "2021-06-04T13:07:06.092120Z"
    },
    "papermill": {
     "duration": 0.105757,
     "end_time": "2021-06-04T13:07:06.092367",
     "exception": false,
     "start_time": "2021-06-04T13:07:05.986610",
     "status": "completed"
    },
    "tags": [
     "raises-exception"
    ]
   },
   "outputs": [
    {
     "ename": "ValueError",
     "evalue": "'Pluto' is not in list",
     "output_type": "error",
     "traceback": [
      "\u001b[0;31m---------------------------------------------------------------------------\u001b[0m",
      "\u001b[0;31mValueError\u001b[0m                                Traceback (most recent call last)",
      "\u001b[0;32m<ipython-input-30-3a8584cba91a>\u001b[0m in \u001b[0;36m<module>\u001b[0;34m\u001b[0m\n\u001b[0;32m----> 1\u001b[0;31m \u001b[0mplanets\u001b[0m\u001b[0;34m.\u001b[0m\u001b[0mindex\u001b[0m\u001b[0;34m(\u001b[0m\u001b[0;34m'Pluto'\u001b[0m\u001b[0;34m)\u001b[0m\u001b[0;34m\u001b[0m\u001b[0;34m\u001b[0m\u001b[0m\n\u001b[0m",
      "\u001b[0;31mValueError\u001b[0m: 'Pluto' is not in list"
     ]
    }
   ],
   "source": [
    "planets.index('Pluto')"
   ]
  },
  {
   "cell_type": "markdown",
   "id": "forward-walter",
   "metadata": {
    "papermill": {
     "duration": 0.054194,
     "end_time": "2021-06-04T13:07:06.202807",
     "exception": false,
     "start_time": "2021-06-04T13:07:06.148613",
     "status": "completed"
    },
    "tags": []
   },
   "source": [
    "Oh, that's right...\n",
    "\n",
    "To avoid unpleasant surprises like this, we can use the `in` operator to determine whether a list contains a particular value:"
   ]
  },
  {
   "cell_type": "code",
   "execution_count": 31,
   "id": "about-daughter",
   "metadata": {
    "collapsed": true,
    "execution": {
     "iopub.execute_input": "2021-06-04T13:07:06.314760Z",
     "iopub.status.busy": "2021-06-04T13:07:06.314093Z",
     "iopub.status.idle": "2021-06-04T13:07:06.320072Z",
     "shell.execute_reply": "2021-06-04T13:07:06.319552Z"
    },
    "papermill": {
     "duration": 0.063095,
     "end_time": "2021-06-04T13:07:06.320212",
     "exception": false,
     "start_time": "2021-06-04T13:07:06.257117",
     "status": "completed"
    },
    "tags": []
   },
   "outputs": [
    {
     "data": {
      "text/plain": [
       "True"
      ]
     },
     "execution_count": 31,
     "metadata": {},
     "output_type": "execute_result"
    }
   ],
   "source": [
    "# Is Earth a planet?\n",
    "\"Earth\" in planets"
   ]
  },
  {
   "cell_type": "code",
   "execution_count": 32,
   "id": "naughty-radius",
   "metadata": {
    "collapsed": true,
    "execution": {
     "iopub.execute_input": "2021-06-04T13:07:06.435958Z",
     "iopub.status.busy": "2021-06-04T13:07:06.435230Z",
     "iopub.status.idle": "2021-06-04T13:07:06.438386Z",
     "shell.execute_reply": "2021-06-04T13:07:06.438966Z"
    },
    "papermill": {
     "duration": 0.063777,
     "end_time": "2021-06-04T13:07:06.439142",
     "exception": false,
     "start_time": "2021-06-04T13:07:06.375365",
     "status": "completed"
    },
    "tags": []
   },
   "outputs": [
    {
     "data": {
      "text/plain": [
       "False"
      ]
     },
     "execution_count": 32,
     "metadata": {},
     "output_type": "execute_result"
    }
   ],
   "source": [
    "# Is Calbefraques a planet?\n",
    "\"Calbefraques\" in planets"
   ]
  },
  {
   "cell_type": "markdown",
   "id": "comfortable-humanitarian",
   "metadata": {
    "papermill": {
     "duration": 0.057556,
     "end_time": "2021-06-04T13:07:06.553838",
     "exception": false,
     "start_time": "2021-06-04T13:07:06.496282",
     "status": "completed"
    },
    "tags": []
   },
   "source": [
    "There are a few more interesting list methods we haven't covered. If you want to learn about all the methods and attributes attached to a particular object, we can call `help()` on the object itself. For example, `help(planets)` will tell us about *all* the list methods: "
   ]
  },
  {
   "cell_type": "code",
   "execution_count": 33,
   "id": "lesser-detail",
   "metadata": {
    "_kg_hide-output": true,
    "execution": {
     "iopub.execute_input": "2021-06-04T13:07:06.670142Z",
     "iopub.status.busy": "2021-06-04T13:07:06.669400Z",
     "iopub.status.idle": "2021-06-04T13:07:06.687367Z",
     "shell.execute_reply": "2021-06-04T13:07:06.687902Z"
    },
    "papermill": {
     "duration": 0.078735,
     "end_time": "2021-06-04T13:07:06.688074",
     "exception": false,
     "start_time": "2021-06-04T13:07:06.609339",
     "status": "completed"
    },
    "tags": []
   },
   "outputs": [
    {
     "name": "stdout",
     "output_type": "stream",
     "text": [
      "Help on list object:\n",
      "\n",
      "class list(object)\n",
      " |  list(iterable=(), /)\n",
      " |  \n",
      " |  Built-in mutable sequence.\n",
      " |  \n",
      " |  If no argument is given, the constructor creates a new empty list.\n",
      " |  The argument must be an iterable if specified.\n",
      " |  \n",
      " |  Methods defined here:\n",
      " |  \n",
      " |  __add__(self, value, /)\n",
      " |      Return self+value.\n",
      " |  \n",
      " |  __contains__(self, key, /)\n",
      " |      Return key in self.\n",
      " |  \n",
      " |  __delitem__(self, key, /)\n",
      " |      Delete self[key].\n",
      " |  \n",
      " |  __eq__(self, value, /)\n",
      " |      Return self==value.\n",
      " |  \n",
      " |  __ge__(self, value, /)\n",
      " |      Return self>=value.\n",
      " |  \n",
      " |  __getattribute__(self, name, /)\n",
      " |      Return getattr(self, name).\n",
      " |  \n",
      " |  __getitem__(...)\n",
      " |      x.__getitem__(y) <==> x[y]\n",
      " |  \n",
      " |  __gt__(self, value, /)\n",
      " |      Return self>value.\n",
      " |  \n",
      " |  __iadd__(self, value, /)\n",
      " |      Implement self+=value.\n",
      " |  \n",
      " |  __imul__(self, value, /)\n",
      " |      Implement self*=value.\n",
      " |  \n",
      " |  __init__(self, /, *args, **kwargs)\n",
      " |      Initialize self.  See help(type(self)) for accurate signature.\n",
      " |  \n",
      " |  __iter__(self, /)\n",
      " |      Implement iter(self).\n",
      " |  \n",
      " |  __le__(self, value, /)\n",
      " |      Return self<=value.\n",
      " |  \n",
      " |  __len__(self, /)\n",
      " |      Return len(self).\n",
      " |  \n",
      " |  __lt__(self, value, /)\n",
      " |      Return self<value.\n",
      " |  \n",
      " |  __mul__(self, value, /)\n",
      " |      Return self*value.\n",
      " |  \n",
      " |  __ne__(self, value, /)\n",
      " |      Return self!=value.\n",
      " |  \n",
      " |  __repr__(self, /)\n",
      " |      Return repr(self).\n",
      " |  \n",
      " |  __reversed__(self, /)\n",
      " |      Return a reverse iterator over the list.\n",
      " |  \n",
      " |  __rmul__(self, value, /)\n",
      " |      Return value*self.\n",
      " |  \n",
      " |  __setitem__(self, key, value, /)\n",
      " |      Set self[key] to value.\n",
      " |  \n",
      " |  __sizeof__(self, /)\n",
      " |      Return the size of the list in memory, in bytes.\n",
      " |  \n",
      " |  append(self, object, /)\n",
      " |      Append object to the end of the list.\n",
      " |  \n",
      " |  clear(self, /)\n",
      " |      Remove all items from list.\n",
      " |  \n",
      " |  copy(self, /)\n",
      " |      Return a shallow copy of the list.\n",
      " |  \n",
      " |  count(self, value, /)\n",
      " |      Return number of occurrences of value.\n",
      " |  \n",
      " |  extend(self, iterable, /)\n",
      " |      Extend list by appending elements from the iterable.\n",
      " |  \n",
      " |  index(self, value, start=0, stop=9223372036854775807, /)\n",
      " |      Return first index of value.\n",
      " |      \n",
      " |      Raises ValueError if the value is not present.\n",
      " |  \n",
      " |  insert(self, index, object, /)\n",
      " |      Insert object before index.\n",
      " |  \n",
      " |  pop(self, index=-1, /)\n",
      " |      Remove and return item at index (default last).\n",
      " |      \n",
      " |      Raises IndexError if list is empty or index is out of range.\n",
      " |  \n",
      " |  remove(self, value, /)\n",
      " |      Remove first occurrence of value.\n",
      " |      \n",
      " |      Raises ValueError if the value is not present.\n",
      " |  \n",
      " |  reverse(self, /)\n",
      " |      Reverse *IN PLACE*.\n",
      " |  \n",
      " |  sort(self, /, *, key=None, reverse=False)\n",
      " |      Stable sort *IN PLACE*.\n",
      " |  \n",
      " |  ----------------------------------------------------------------------\n",
      " |  Static methods defined here:\n",
      " |  \n",
      " |  __new__(*args, **kwargs) from builtins.type\n",
      " |      Create and return a new object.  See help(type) for accurate signature.\n",
      " |  \n",
      " |  ----------------------------------------------------------------------\n",
      " |  Data and other attributes defined here:\n",
      " |  \n",
      " |  __hash__ = None\n",
      "\n"
     ]
    }
   ],
   "source": [
    "help(planets)"
   ]
  },
  {
   "cell_type": "markdown",
   "id": "theoretical-wrist",
   "metadata": {
    "papermill": {
     "duration": 0.055886,
     "end_time": "2021-06-04T13:07:06.800016",
     "exception": false,
     "start_time": "2021-06-04T13:07:06.744130",
     "status": "completed"
    },
    "tags": []
   },
   "source": [
    "Click the \"output\" button to see the full help page. Lists have lots of methods with weird-looking names like `__eq__` and `__iadd__`. Don't worry too much about these for now. (You'll probably never call such methods directly. But they get called behind the scenes when we use syntax like indexing or comparison operators.) The most interesting methods are toward the bottom of the list (`append`, `clear`, `copy`, etc.)."
   ]
  },
  {
   "cell_type": "markdown",
   "id": "initial-joshua",
   "metadata": {
    "papermill": {
     "duration": 0.057219,
     "end_time": "2021-06-04T13:07:06.913392",
     "exception": false,
     "start_time": "2021-06-04T13:07:06.856173",
     "status": "completed"
    },
    "tags": []
   },
   "source": [
    "## Tuples\n",
    "\n",
    "Tuples are almost exactly the same as lists. They differ in just two ways.\n",
    "\n",
    "**1:** The syntax for creating them uses parentheses instead of square brackets"
   ]
  },
  {
   "cell_type": "code",
   "execution_count": 34,
   "id": "potential-browse",
   "metadata": {
    "execution": {
     "iopub.execute_input": "2021-06-04T13:07:07.028883Z",
     "iopub.status.busy": "2021-06-04T13:07:07.028243Z",
     "iopub.status.idle": "2021-06-04T13:07:07.033146Z",
     "shell.execute_reply": "2021-06-04T13:07:07.032478Z"
    },
    "papermill": {
     "duration": 0.06364,
     "end_time": "2021-06-04T13:07:07.033290",
     "exception": false,
     "start_time": "2021-06-04T13:07:06.969650",
     "status": "completed"
    },
    "tags": []
   },
   "outputs": [],
   "source": [
    "t = (1, 2, 3)"
   ]
  },
  {
   "cell_type": "code",
   "execution_count": 35,
   "id": "otherwise-photographer",
   "metadata": {
    "execution": {
     "iopub.execute_input": "2021-06-04T13:07:07.150889Z",
     "iopub.status.busy": "2021-06-04T13:07:07.150231Z",
     "iopub.status.idle": "2021-06-04T13:07:07.155499Z",
     "shell.execute_reply": "2021-06-04T13:07:07.156109Z"
    },
    "papermill": {
     "duration": 0.065417,
     "end_time": "2021-06-04T13:07:07.156281",
     "exception": false,
     "start_time": "2021-06-04T13:07:07.090864",
     "status": "completed"
    },
    "tags": []
   },
   "outputs": [
    {
     "data": {
      "text/plain": [
       "(1, 2, 3)"
      ]
     },
     "execution_count": 35,
     "metadata": {},
     "output_type": "execute_result"
    }
   ],
   "source": [
    "t = 1, 2, 3 # equivalent to above\n",
    "t"
   ]
  },
  {
   "cell_type": "markdown",
   "id": "scenic-coffee",
   "metadata": {
    "papermill": {
     "duration": 0.057893,
     "end_time": "2021-06-04T13:07:07.272119",
     "exception": false,
     "start_time": "2021-06-04T13:07:07.214226",
     "status": "completed"
    },
    "tags": []
   },
   "source": [
    "**2:** They cannot be modified (they are *immutable*)."
   ]
  },
  {
   "cell_type": "code",
   "execution_count": 36,
   "id": "addressed-drink",
   "metadata": {
    "execution": {
     "iopub.execute_input": "2021-06-04T13:07:07.398289Z",
     "iopub.status.busy": "2021-06-04T13:07:07.390656Z",
     "iopub.status.idle": "2021-06-04T13:07:07.403112Z",
     "shell.execute_reply": "2021-06-04T13:07:07.403592Z"
    },
    "papermill": {
     "duration": 0.073938,
     "end_time": "2021-06-04T13:07:07.403772",
     "exception": false,
     "start_time": "2021-06-04T13:07:07.329834",
     "status": "completed"
    },
    "tags": [
     "raises-exception"
    ]
   },
   "outputs": [
    {
     "ename": "TypeError",
     "evalue": "'tuple' object does not support item assignment",
     "output_type": "error",
     "traceback": [
      "\u001b[0;31m---------------------------------------------------------------------------\u001b[0m",
      "\u001b[0;31mTypeError\u001b[0m                                 Traceback (most recent call last)",
      "\u001b[0;32m<ipython-input-36-e6cf7836e708>\u001b[0m in \u001b[0;36m<module>\u001b[0;34m\u001b[0m\n\u001b[0;32m----> 1\u001b[0;31m \u001b[0mt\u001b[0m\u001b[0;34m[\u001b[0m\u001b[0;36m0\u001b[0m\u001b[0;34m]\u001b[0m \u001b[0;34m=\u001b[0m \u001b[0;36m100\u001b[0m\u001b[0;34m\u001b[0m\u001b[0;34m\u001b[0m\u001b[0m\n\u001b[0m",
      "\u001b[0;31mTypeError\u001b[0m: 'tuple' object does not support item assignment"
     ]
    }
   ],
   "source": [
    "t[0] = 100"
   ]
  },
  {
   "cell_type": "markdown",
   "id": "acquired-period",
   "metadata": {
    "papermill": {
     "duration": 0.057871,
     "end_time": "2021-06-04T13:07:07.518842",
     "exception": false,
     "start_time": "2021-06-04T13:07:07.460971",
     "status": "completed"
    },
    "tags": []
   },
   "source": [
    "Tuples are often used for functions that have multiple return values.\n",
    "\n",
    "For example, the ``as_integer_ratio()`` method of float objects returns a numerator and a denominator in the form of a tuple:"
   ]
  },
  {
   "cell_type": "code",
   "execution_count": 37,
   "id": "turkish-samuel",
   "metadata": {
    "execution": {
     "iopub.execute_input": "2021-06-04T13:07:07.638797Z",
     "iopub.status.busy": "2021-06-04T13:07:07.638154Z",
     "iopub.status.idle": "2021-06-04T13:07:07.643724Z",
     "shell.execute_reply": "2021-06-04T13:07:07.643110Z"
    },
    "papermill": {
     "duration": 0.066618,
     "end_time": "2021-06-04T13:07:07.643871",
     "exception": false,
     "start_time": "2021-06-04T13:07:07.577253",
     "status": "completed"
    },
    "tags": []
   },
   "outputs": [
    {
     "data": {
      "text/plain": [
       "(1, 8)"
      ]
     },
     "execution_count": 37,
     "metadata": {},
     "output_type": "execute_result"
    }
   ],
   "source": [
    "x = 0.125\n",
    "x.as_integer_ratio()"
   ]
  },
  {
   "cell_type": "markdown",
   "id": "protective-irish",
   "metadata": {
    "papermill": {
     "duration": 0.058958,
     "end_time": "2021-06-04T13:07:07.760362",
     "exception": false,
     "start_time": "2021-06-04T13:07:07.701404",
     "status": "completed"
    },
    "tags": []
   },
   "source": [
    "These multiple return values can be individually assigned as follows:"
   ]
  },
  {
   "cell_type": "code",
   "execution_count": 38,
   "id": "flush-plane",
   "metadata": {
    "execution": {
     "iopub.execute_input": "2021-06-04T13:07:07.890051Z",
     "iopub.status.busy": "2021-06-04T13:07:07.888970Z",
     "iopub.status.idle": "2021-06-04T13:07:07.894361Z",
     "shell.execute_reply": "2021-06-04T13:07:07.894989Z"
    },
    "papermill": {
     "duration": 0.071033,
     "end_time": "2021-06-04T13:07:07.895160",
     "exception": false,
     "start_time": "2021-06-04T13:07:07.824127",
     "status": "completed"
    },
    "tags": []
   },
   "outputs": [
    {
     "name": "stdout",
     "output_type": "stream",
     "text": [
      "0.125\n"
     ]
    }
   ],
   "source": [
    "numerator, denominator = x.as_integer_ratio()\n",
    "print(numerator / denominator)"
   ]
  },
  {
   "cell_type": "markdown",
   "id": "starting-brighton",
   "metadata": {
    "papermill": {
     "duration": 0.064879,
     "end_time": "2021-06-04T13:07:08.032873",
     "exception": false,
     "start_time": "2021-06-04T13:07:07.967994",
     "status": "completed"
    },
    "tags": []
   },
   "source": [
    "Finally we have some insight into the classic Stupid Python Trick™ for swapping two variables!"
   ]
  },
  {
   "cell_type": "code",
   "execution_count": 39,
   "id": "polar-shift",
   "metadata": {
    "execution": {
     "iopub.execute_input": "2021-06-04T13:07:08.166730Z",
     "iopub.status.busy": "2021-06-04T13:07:08.165690Z",
     "iopub.status.idle": "2021-06-04T13:07:08.171738Z",
     "shell.execute_reply": "2021-06-04T13:07:08.172280Z"
    },
    "papermill": {
     "duration": 0.069239,
     "end_time": "2021-06-04T13:07:08.172447",
     "exception": false,
     "start_time": "2021-06-04T13:07:08.103208",
     "status": "completed"
    },
    "tags": []
   },
   "outputs": [
    {
     "name": "stdout",
     "output_type": "stream",
     "text": [
      "0 1\n"
     ]
    }
   ],
   "source": [
    "a = 1\n",
    "b = 0\n",
    "a, b = b, a\n",
    "print(a, b)"
   ]
  },
  {
   "cell_type": "markdown",
   "id": "nasty-sucking",
   "metadata": {
    "papermill": {
     "duration": 0.058979,
     "end_time": "2021-06-04T13:07:08.289801",
     "exception": false,
     "start_time": "2021-06-04T13:07:08.230822",
     "status": "completed"
    },
    "tags": []
   },
   "source": [
    "# Your Turn\n",
    "\n",
    "You learn best by writing code, not just reading it. So try **[the coding challenge](https://www.kaggle.com/kernels/fork/1275173)** now."
   ]
  },
  {
   "cell_type": "markdown",
   "id": "superb-biodiversity",
   "metadata": {
    "papermill": {
     "duration": 0.059327,
     "end_time": "2021-06-04T13:07:08.409221",
     "exception": false,
     "start_time": "2021-06-04T13:07:08.349894",
     "status": "completed"
    },
    "tags": []
   },
   "source": [
    "---\n",
    "\n",
    "\n",
    "\n",
    "\n",
    "*Have questions or comments? Visit the [Learn Discussion forum](https://www.kaggle.com/learn-forum/161283) to chat with other Learners.*"
   ]
  }
 ],
 "metadata": {
  "anaconda-cloud": {},
  "kernelspec": {
   "display_name": "Python 3",
   "language": "python",
   "name": "python3"
  },
  "language_info": {
   "codemirror_mode": {
    "name": "ipython",
    "version": 3
   },
   "file_extension": ".py",
   "mimetype": "text/x-python",
   "name": "python",
   "nbconvert_exporter": "python",
   "pygments_lexer": "ipython3",
   "version": "3.7.9"
  },
  "learntools_metadata": {
   "lesson_index": 3,
   "type": "tutorial"
  },
  "papermill": {
   "default_parameters": {},
   "duration": 15.412386,
   "end_time": "2021-06-04T13:07:09.077009",
   "environment_variables": {},
   "exception": null,
   "input_path": "__notebook__.ipynb",
   "output_path": "__notebook__.ipynb",
   "parameters": {},
   "start_time": "2021-06-04T13:06:53.664623",
   "version": "2.3.2"
  }
 },
 "nbformat": 4,
 "nbformat_minor": 5
}
