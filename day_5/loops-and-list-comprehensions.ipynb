{
 "cells": [
  {
   "cell_type": "markdown",
   "id": "appreciated-effort",
   "metadata": {
    "papermill": {
     "duration": 0.020212,
     "end_time": "2021-06-04T13:07:04.990938",
     "exception": false,
     "start_time": "2021-06-04T13:07:04.970726",
     "status": "completed"
    },
    "tags": []
   },
   "source": [
    "# Loops\n",
    "\n",
    "Loops are a way to repeatedly execute some code. Here's an example:"
   ]
  },
  {
   "cell_type": "code",
   "execution_count": 1,
   "id": "exact-developer",
   "metadata": {
    "execution": {
     "iopub.execute_input": "2021-06-04T13:07:05.035626Z",
     "iopub.status.busy": "2021-06-04T13:07:05.033769Z",
     "iopub.status.idle": "2021-06-04T13:07:05.042384Z",
     "shell.execute_reply": "2021-06-04T13:07:05.041618Z"
    },
    "papermill": {
     "duration": 0.03233,
     "end_time": "2021-06-04T13:07:05.042553",
     "exception": false,
     "start_time": "2021-06-04T13:07:05.010223",
     "status": "completed"
    },
    "tags": []
   },
   "outputs": [
    {
     "name": "stdout",
     "output_type": "stream",
     "text": [
      "Mercury Venus Earth Mars Jupiter Saturn Uranus Neptune "
     ]
    }
   ],
   "source": [
    "planets = ['Mercury', 'Venus', 'Earth', 'Mars', 'Jupiter', 'Saturn', 'Uranus', 'Neptune']\n",
    "for planet in planets:\n",
    "    print(planet, end=' ') # print all on same line"
   ]
  },
  {
   "cell_type": "markdown",
   "id": "looking-prague",
   "metadata": {
    "papermill": {
     "duration": 0.019769,
     "end_time": "2021-06-04T13:07:05.082722",
     "exception": false,
     "start_time": "2021-06-04T13:07:05.062953",
     "status": "completed"
    },
    "tags": []
   },
   "source": [
    "The ``for`` loop specifies \n",
    "- the variable name to use (in this case, `planet`)\n",
    "- the set of values to loop over (in this case, `planets`)\n",
    "\n",
    "You use the word \"``in``\" to link them together.\n",
    "\n",
    "The object to the right of the \"``in``\" can be any object that supports iteration. Basically, if it can be thought of as a group of things, you can probably loop over it. In addition to lists, we can iterate over the elements of a tuple:"
   ]
  },
  {
   "cell_type": "code",
   "execution_count": 2,
   "id": "molecular-shepherd",
   "metadata": {
    "execution": {
     "iopub.execute_input": "2021-06-04T13:07:05.126161Z",
     "iopub.status.busy": "2021-06-04T13:07:05.125524Z",
     "iopub.status.idle": "2021-06-04T13:07:05.135526Z",
     "shell.execute_reply": "2021-06-04T13:07:05.134917Z"
    },
    "papermill": {
     "duration": 0.033067,
     "end_time": "2021-06-04T13:07:05.135664",
     "exception": false,
     "start_time": "2021-06-04T13:07:05.102597",
     "status": "completed"
    },
    "tags": []
   },
   "outputs": [
    {
     "data": {
      "text/plain": [
       "360"
      ]
     },
     "execution_count": 2,
     "metadata": {},
     "output_type": "execute_result"
    }
   ],
   "source": [
    "multiplicands = (2, 2, 2, 3, 3, 5)\n",
    "product = 1\n",
    "for mult in multiplicands:\n",
    "    product = product * mult\n",
    "product"
   ]
  },
  {
   "cell_type": "markdown",
   "id": "organic-trout",
   "metadata": {
    "papermill": {
     "duration": 0.02135,
     "end_time": "2021-06-04T13:07:05.176223",
     "exception": false,
     "start_time": "2021-06-04T13:07:05.154873",
     "status": "completed"
    },
    "tags": []
   },
   "source": [
    "You can even loop through each character in a string:"
   ]
  },
  {
   "cell_type": "code",
   "execution_count": 3,
   "id": "impressive-librarian",
   "metadata": {
    "execution": {
     "iopub.execute_input": "2021-06-04T13:07:05.221900Z",
     "iopub.status.busy": "2021-06-04T13:07:05.220839Z",
     "iopub.status.idle": "2021-06-04T13:07:05.226621Z",
     "shell.execute_reply": "2021-06-04T13:07:05.225901Z"
    },
    "papermill": {
     "duration": 0.030704,
     "end_time": "2021-06-04T13:07:05.226782",
     "exception": false,
     "start_time": "2021-06-04T13:07:05.196078",
     "status": "completed"
    },
    "tags": []
   },
   "outputs": [
    {
     "name": "stdout",
     "output_type": "stream",
     "text": [
      "HELLO"
     ]
    }
   ],
   "source": [
    "s = 'steganograpHy is the practicE of conceaLing a file, message, image, or video within another fiLe, message, image, Or video.'\n",
    "msg = ''\n",
    "# print all the uppercase letters in s, one at a time\n",
    "for char in s:\n",
    "    if char.isupper():\n",
    "        print(char, end='')        "
   ]
  },
  {
   "cell_type": "markdown",
   "id": "looking-literature",
   "metadata": {
    "papermill": {
     "duration": 0.019434,
     "end_time": "2021-06-04T13:07:05.266644",
     "exception": false,
     "start_time": "2021-06-04T13:07:05.247210",
     "status": "completed"
    },
    "tags": []
   },
   "source": [
    "### range()\n",
    "\n",
    "`range()` is a function that returns a sequence of numbers. It turns out to be very useful for writing loops.\n",
    "\n",
    "For example, if we want to repeat some action 5 times:"
   ]
  },
  {
   "cell_type": "code",
   "execution_count": 4,
   "id": "smoking-david",
   "metadata": {
    "execution": {
     "iopub.execute_input": "2021-06-04T13:07:05.315602Z",
     "iopub.status.busy": "2021-06-04T13:07:05.314865Z",
     "iopub.status.idle": "2021-06-04T13:07:05.319021Z",
     "shell.execute_reply": "2021-06-04T13:07:05.318246Z"
    },
    "papermill": {
     "duration": 0.031506,
     "end_time": "2021-06-04T13:07:05.319179",
     "exception": false,
     "start_time": "2021-06-04T13:07:05.287673",
     "status": "completed"
    },
    "tags": []
   },
   "outputs": [
    {
     "name": "stdout",
     "output_type": "stream",
     "text": [
      "Doing important work. i = 0\n",
      "Doing important work. i = 1\n",
      "Doing important work. i = 2\n",
      "Doing important work. i = 3\n",
      "Doing important work. i = 4\n"
     ]
    }
   ],
   "source": [
    "for i in range(5):\n",
    "    print(\"Doing important work. i =\", i)"
   ]
  },
  {
   "cell_type": "markdown",
   "id": "animal-energy",
   "metadata": {
    "papermill": {
     "duration": 0.020551,
     "end_time": "2021-06-04T13:07:05.360531",
     "exception": false,
     "start_time": "2021-06-04T13:07:05.339980",
     "status": "completed"
    },
    "tags": []
   },
   "source": [
    "## ``while`` loops\n",
    "The other type of loop in Python is a ``while`` loop, which iterates until some condition is met:"
   ]
  },
  {
   "cell_type": "code",
   "execution_count": 5,
   "id": "medium-directory",
   "metadata": {
    "execution": {
     "iopub.execute_input": "2021-06-04T13:07:05.407444Z",
     "iopub.status.busy": "2021-06-04T13:07:05.406786Z",
     "iopub.status.idle": "2021-06-04T13:07:05.411665Z",
     "shell.execute_reply": "2021-06-04T13:07:05.410995Z"
    },
    "papermill": {
     "duration": 0.0302,
     "end_time": "2021-06-04T13:07:05.411822",
     "exception": false,
     "start_time": "2021-06-04T13:07:05.381622",
     "status": "completed"
    },
    "tags": []
   },
   "outputs": [
    {
     "name": "stdout",
     "output_type": "stream",
     "text": [
      "0 1 2 3 4 5 6 7 8 9 "
     ]
    }
   ],
   "source": [
    "i = 0\n",
    "while i < 10:\n",
    "    print(i, end=' ')\n",
    "    i += 1 # increase the value of i by 1"
   ]
  },
  {
   "cell_type": "markdown",
   "id": "strong-graduation",
   "metadata": {
    "papermill": {
     "duration": 0.020397,
     "end_time": "2021-06-04T13:07:05.453144",
     "exception": false,
     "start_time": "2021-06-04T13:07:05.432747",
     "status": "completed"
    },
    "tags": []
   },
   "source": [
    "The argument of the ``while`` loop is evaluated as a boolean statement, and the loop is executed until the statement evaluates to False."
   ]
  },
  {
   "cell_type": "markdown",
   "id": "cross-brave",
   "metadata": {
    "papermill": {
     "duration": 0.020523,
     "end_time": "2021-06-04T13:07:05.494524",
     "exception": false,
     "start_time": "2021-06-04T13:07:05.474001",
     "status": "completed"
    },
    "tags": []
   },
   "source": [
    "# List comprehensions\n",
    "\n",
    "List comprehensions are one of Python's most beloved and unique features. The easiest way to understand them is probably to just look at a few examples:"
   ]
  },
  {
   "cell_type": "code",
   "execution_count": 6,
   "id": "facial-celebration",
   "metadata": {
    "execution": {
     "iopub.execute_input": "2021-06-04T13:07:05.541607Z",
     "iopub.status.busy": "2021-06-04T13:07:05.540931Z",
     "iopub.status.idle": "2021-06-04T13:07:05.545211Z",
     "shell.execute_reply": "2021-06-04T13:07:05.544644Z"
    },
    "papermill": {
     "duration": 0.030198,
     "end_time": "2021-06-04T13:07:05.545427",
     "exception": false,
     "start_time": "2021-06-04T13:07:05.515229",
     "status": "completed"
    },
    "tags": []
   },
   "outputs": [
    {
     "data": {
      "text/plain": [
       "[0, 1, 4, 9, 16, 25, 36, 49, 64, 81]"
      ]
     },
     "execution_count": 6,
     "metadata": {},
     "output_type": "execute_result"
    }
   ],
   "source": [
    "squares = [n**2 for n in range(10)]\n",
    "squares"
   ]
  },
  {
   "cell_type": "markdown",
   "id": "union-duncan",
   "metadata": {
    "papermill": {
     "duration": 0.021028,
     "end_time": "2021-06-04T13:07:05.587657",
     "exception": false,
     "start_time": "2021-06-04T13:07:05.566629",
     "status": "completed"
    },
    "tags": []
   },
   "source": [
    "Here's how we would do the same thing without a list comprehension:"
   ]
  },
  {
   "cell_type": "code",
   "execution_count": 7,
   "id": "interstate-egypt",
   "metadata": {
    "execution": {
     "iopub.execute_input": "2021-06-04T13:07:05.637030Z",
     "iopub.status.busy": "2021-06-04T13:07:05.635906Z",
     "iopub.status.idle": "2021-06-04T13:07:05.640665Z",
     "shell.execute_reply": "2021-06-04T13:07:05.640021Z"
    },
    "papermill": {
     "duration": 0.031941,
     "end_time": "2021-06-04T13:07:05.640808",
     "exception": false,
     "start_time": "2021-06-04T13:07:05.608867",
     "status": "completed"
    },
    "tags": []
   },
   "outputs": [
    {
     "data": {
      "text/plain": [
       "[0, 1, 4, 9, 16, 25, 36, 49, 64, 81]"
      ]
     },
     "execution_count": 7,
     "metadata": {},
     "output_type": "execute_result"
    }
   ],
   "source": [
    "squares = []\n",
    "for n in range(10):\n",
    "    squares.append(n**2)\n",
    "squares"
   ]
  },
  {
   "cell_type": "markdown",
   "id": "hidden-authority",
   "metadata": {
    "papermill": {
     "duration": 0.022868,
     "end_time": "2021-06-04T13:07:05.685761",
     "exception": false,
     "start_time": "2021-06-04T13:07:05.662893",
     "status": "completed"
    },
    "tags": []
   },
   "source": [
    "We can also add an `if` condition:"
   ]
  },
  {
   "cell_type": "code",
   "execution_count": 8,
   "id": "julian-hazard",
   "metadata": {
    "execution": {
     "iopub.execute_input": "2021-06-04T13:07:05.734956Z",
     "iopub.status.busy": "2021-06-04T13:07:05.734126Z",
     "iopub.status.idle": "2021-06-04T13:07:05.737557Z",
     "shell.execute_reply": "2021-06-04T13:07:05.738037Z"
    },
    "papermill": {
     "duration": 0.030666,
     "end_time": "2021-06-04T13:07:05.738203",
     "exception": false,
     "start_time": "2021-06-04T13:07:05.707537",
     "status": "completed"
    },
    "tags": []
   },
   "outputs": [
    {
     "data": {
      "text/plain": [
       "['Venus', 'Earth', 'Mars']"
      ]
     },
     "execution_count": 8,
     "metadata": {},
     "output_type": "execute_result"
    }
   ],
   "source": [
    "short_planets = [planet for planet in planets if len(planet) < 6]\n",
    "short_planets"
   ]
  },
  {
   "cell_type": "markdown",
   "id": "noble-firewall",
   "metadata": {
    "papermill": {
     "duration": 0.022689,
     "end_time": "2021-06-04T13:07:05.782735",
     "exception": false,
     "start_time": "2021-06-04T13:07:05.760046",
     "status": "completed"
    },
    "tags": []
   },
   "source": [
    "(If you're familiar with SQL, you might think of this as being like a \"WHERE\" clause)\n",
    "\n",
    "Here's an example of filtering with an `if` condition *and* applying some transformation to the loop variable:"
   ]
  },
  {
   "cell_type": "code",
   "execution_count": 9,
   "id": "killing-platinum",
   "metadata": {
    "execution": {
     "iopub.execute_input": "2021-06-04T13:07:05.830729Z",
     "iopub.status.busy": "2021-06-04T13:07:05.829754Z",
     "iopub.status.idle": "2021-06-04T13:07:05.835675Z",
     "shell.execute_reply": "2021-06-04T13:07:05.836137Z"
    },
    "papermill": {
     "duration": 0.031425,
     "end_time": "2021-06-04T13:07:05.836336",
     "exception": false,
     "start_time": "2021-06-04T13:07:05.804911",
     "status": "completed"
    },
    "tags": []
   },
   "outputs": [
    {
     "data": {
      "text/plain": [
       "['VENUS!', 'EARTH!', 'MARS!']"
      ]
     },
     "execution_count": 9,
     "metadata": {},
     "output_type": "execute_result"
    }
   ],
   "source": [
    "# str.upper() returns an all-caps version of a string\n",
    "loud_short_planets = [planet.upper() + '!' for planet in planets if len(planet) < 6]\n",
    "loud_short_planets"
   ]
  },
  {
   "cell_type": "markdown",
   "id": "royal-commander",
   "metadata": {
    "papermill": {
     "duration": 0.022408,
     "end_time": "2021-06-04T13:07:05.881162",
     "exception": false,
     "start_time": "2021-06-04T13:07:05.858754",
     "status": "completed"
    },
    "tags": []
   },
   "source": [
    "People usually write these on a single line, but you might find the structure clearer when it's split up over 3 lines:"
   ]
  },
  {
   "cell_type": "code",
   "execution_count": 10,
   "id": "activated-bible",
   "metadata": {
    "execution": {
     "iopub.execute_input": "2021-06-04T13:07:05.930120Z",
     "iopub.status.busy": "2021-06-04T13:07:05.929150Z",
     "iopub.status.idle": "2021-06-04T13:07:05.935380Z",
     "shell.execute_reply": "2021-06-04T13:07:05.935964Z"
    },
    "papermill": {
     "duration": 0.032407,
     "end_time": "2021-06-04T13:07:05.936154",
     "exception": false,
     "start_time": "2021-06-04T13:07:05.903747",
     "status": "completed"
    },
    "tags": []
   },
   "outputs": [
    {
     "data": {
      "text/plain": [
       "['VENUS!', 'EARTH!', 'MARS!']"
      ]
     },
     "execution_count": 10,
     "metadata": {},
     "output_type": "execute_result"
    }
   ],
   "source": [
    "[\n",
    "    planet.upper() + '!' \n",
    "    for planet in planets \n",
    "    if len(planet) < 6\n",
    "]"
   ]
  },
  {
   "cell_type": "markdown",
   "id": "academic-nation",
   "metadata": {
    "papermill": {
     "duration": 0.022777,
     "end_time": "2021-06-04T13:07:05.982812",
     "exception": false,
     "start_time": "2021-06-04T13:07:05.960035",
     "status": "completed"
    },
    "tags": []
   },
   "source": [
    "(Continuing the SQL analogy, you could think of these three lines as SELECT, FROM, and WHERE)\n",
    "\n",
    "The expression on the left doesn't technically have to involve the loop variable (though it'd be pretty unusual for it not to). What do you think the expression below will evaluate to? Press the 'output' button to check. "
   ]
  },
  {
   "cell_type": "code",
   "execution_count": 11,
   "id": "valued-alarm",
   "metadata": {
    "_kg_hide-output": true,
    "execution": {
     "iopub.execute_input": "2021-06-04T13:07:06.035865Z",
     "iopub.status.busy": "2021-06-04T13:07:06.034873Z",
     "iopub.status.idle": "2021-06-04T13:07:06.040967Z",
     "shell.execute_reply": "2021-06-04T13:07:06.041495Z"
    },
    "papermill": {
     "duration": 0.03521,
     "end_time": "2021-06-04T13:07:06.041675",
     "exception": false,
     "start_time": "2021-06-04T13:07:06.006465",
     "status": "completed"
    },
    "tags": []
   },
   "outputs": [
    {
     "data": {
      "text/plain": [
       "[32, 32, 32, 32, 32, 32, 32, 32]"
      ]
     },
     "execution_count": 11,
     "metadata": {},
     "output_type": "execute_result"
    }
   ],
   "source": [
    "[32 for planet in planets]"
   ]
  },
  {
   "cell_type": "markdown",
   "id": "worth-vocabulary",
   "metadata": {
    "papermill": {
     "duration": 0.022902,
     "end_time": "2021-06-04T13:07:06.087944",
     "exception": false,
     "start_time": "2021-06-04T13:07:06.065042",
     "status": "completed"
    },
    "tags": []
   },
   "source": [
    "List comprehensions combined with functions like `min`, `max`, and `sum` can lead to impressive one-line solutions for problems that would otherwise require several lines of code. \n",
    "\n",
    "For example, compare the following two cells of code that do the same thing.\n"
   ]
  },
  {
   "cell_type": "code",
   "execution_count": 12,
   "id": "modular-transformation",
   "metadata": {
    "collapsed": true,
    "execution": {
     "iopub.execute_input": "2021-06-04T13:07:06.139770Z",
     "iopub.status.busy": "2021-06-04T13:07:06.136939Z",
     "iopub.status.idle": "2021-06-04T13:07:06.142034Z",
     "shell.execute_reply": "2021-06-04T13:07:06.142597Z"
    },
    "papermill": {
     "duration": 0.031786,
     "end_time": "2021-06-04T13:07:06.142796",
     "exception": false,
     "start_time": "2021-06-04T13:07:06.111010",
     "status": "completed"
    },
    "tags": []
   },
   "outputs": [],
   "source": [
    "def count_negatives(nums):\n",
    "    \"\"\"Return the number of negative numbers in the given list.\n",
    "    \n",
    "    >>> count_negatives([5, -1, -2, 0, 3])\n",
    "    2\n",
    "    \"\"\"\n",
    "    n_negative = 0\n",
    "    for num in nums:\n",
    "        if num < 0:\n",
    "            n_negative = n_negative + 1\n",
    "    return n_negative"
   ]
  },
  {
   "cell_type": "markdown",
   "id": "spectacular-socket",
   "metadata": {
    "papermill": {
     "duration": 0.023078,
     "end_time": "2021-06-04T13:07:06.189266",
     "exception": false,
     "start_time": "2021-06-04T13:07:06.166188",
     "status": "completed"
    },
    "tags": []
   },
   "source": [
    "Here's a solution using a list comprehension:"
   ]
  },
  {
   "cell_type": "code",
   "execution_count": 13,
   "id": "anticipated-recipe",
   "metadata": {
    "collapsed": true,
    "execution": {
     "iopub.execute_input": "2021-06-04T13:07:06.248154Z",
     "iopub.status.busy": "2021-06-04T13:07:06.246863Z",
     "iopub.status.idle": "2021-06-04T13:07:06.250441Z",
     "shell.execute_reply": "2021-06-04T13:07:06.249624Z"
    },
    "papermill": {
     "duration": 0.036906,
     "end_time": "2021-06-04T13:07:06.250610",
     "exception": false,
     "start_time": "2021-06-04T13:07:06.213704",
     "status": "completed"
    },
    "tags": []
   },
   "outputs": [],
   "source": [
    "def count_negatives(nums):\n",
    "    return len([num for num in nums if num < 0])"
   ]
  },
  {
   "cell_type": "markdown",
   "id": "adjusted-battle",
   "metadata": {
    "papermill": {
     "duration": 0.023068,
     "end_time": "2021-06-04T13:07:06.297650",
     "exception": false,
     "start_time": "2021-06-04T13:07:06.274582",
     "status": "completed"
    },
    "tags": []
   },
   "source": [
    "Much better, right?\n",
    "\n",
    "Well if all we care about is minimizing the length of our code, this third solution is better still!"
   ]
  },
  {
   "cell_type": "code",
   "execution_count": 14,
   "id": "covered-recorder",
   "metadata": {
    "collapsed": true,
    "execution": {
     "iopub.execute_input": "2021-06-04T13:07:06.350266Z",
     "iopub.status.busy": "2021-06-04T13:07:06.349530Z",
     "iopub.status.idle": "2021-06-04T13:07:06.352218Z",
     "shell.execute_reply": "2021-06-04T13:07:06.352726Z"
    },
    "papermill": {
     "duration": 0.031353,
     "end_time": "2021-06-04T13:07:06.352923",
     "exception": false,
     "start_time": "2021-06-04T13:07:06.321570",
     "status": "completed"
    },
    "tags": []
   },
   "outputs": [],
   "source": [
    "def count_negatives(nums):\n",
    "    # Reminder: in the \"booleans and conditionals\" exercises, we learned about a quirk of \n",
    "    # Python where it calculates something like True + True + False + True to be equal to 3.\n",
    "    return sum([num < 0 for num in nums])"
   ]
  },
  {
   "cell_type": "markdown",
   "id": "electronic-centre",
   "metadata": {
    "papermill": {
     "duration": 0.02343,
     "end_time": "2021-06-04T13:07:06.400260",
     "exception": false,
     "start_time": "2021-06-04T13:07:06.376830",
     "status": "completed"
    },
    "tags": []
   },
   "source": [
    "Which of these solutions is the \"best\" is entirely subjective. Solving a problem with less code is always nice, but it's worth keeping in mind the following lines from [The Zen of Python](https://en.wikipedia.org/wiki/Zen_of_Python):\n",
    "\n",
    "> Readability counts.  \n",
    "> Explicit is better than implicit.\n",
    "\n",
    "So, use these tools to make compact readable programs. But when you have to choose, favor code that is easy for others to understand."
   ]
  },
  {
   "cell_type": "markdown",
   "id": "dress-letter",
   "metadata": {
    "papermill": {
     "duration": 0.023341,
     "end_time": "2021-06-04T13:07:06.447231",
     "exception": false,
     "start_time": "2021-06-04T13:07:06.423890",
     "status": "completed"
    },
    "tags": []
   },
   "source": [
    "# Your Turn\n",
    "\n",
    "You know what's next -- we have some **[fun coding challenges](https://www.kaggle.com/kernels/fork/1275177)** for you! This next set of coding problems is shorter, so try it now."
   ]
  },
  {
   "cell_type": "markdown",
   "id": "express-washington",
   "metadata": {
    "papermill": {
     "duration": 0.023386,
     "end_time": "2021-06-04T13:07:06.494160",
     "exception": false,
     "start_time": "2021-06-04T13:07:06.470774",
     "status": "completed"
    },
    "tags": []
   },
   "source": [
    "---\n",
    "\n",
    "\n",
    "\n",
    "\n",
    "*Have questions or comments? Visit the [Learn Discussion forum](https://www.kaggle.com/learn-forum/161283) to chat with other Learners.*"
   ]
  }
 ],
 "metadata": {
  "anaconda-cloud": {},
  "kernelspec": {
   "display_name": "Python 3",
   "language": "python",
   "name": "python3"
  },
  "language_info": {
   "codemirror_mode": {
    "name": "ipython",
    "version": 3
   },
   "file_extension": ".py",
   "mimetype": "text/x-python",
   "name": "python",
   "nbconvert_exporter": "python",
   "pygments_lexer": "ipython3",
   "version": "3.7.9"
  },
  "learntools_metadata": {
   "lesson_index": 4,
   "type": "tutorial"
  },
  "papermill": {
   "default_parameters": {},
   "duration": 8.854203,
   "end_time": "2021-06-04T13:07:07.129378",
   "environment_variables": {},
   "exception": null,
   "input_path": "__notebook__.ipynb",
   "output_path": "__notebook__.ipynb",
   "parameters": {},
   "start_time": "2021-06-04T13:06:58.275175",
   "version": "2.3.2"
  }
 },
 "nbformat": 4,
 "nbformat_minor": 5
}
